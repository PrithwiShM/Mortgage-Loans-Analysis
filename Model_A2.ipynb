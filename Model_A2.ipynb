{
 "cells": [
  {
   "cell_type": "code",
   "execution_count": 1,
   "id": "1e62049e",
   "metadata": {},
   "outputs": [],
   "source": [
    "import pandas as pd\n",
    "import numpy as np\n",
    "import statsmodels.api as sm\n",
    "\n",
    "import seaborn as sns                       #visualisation\n",
    "import matplotlib.pyplot as plt             #visualisation\n",
    "\n",
    "\n",
    "%matplotlib inline"
   ]
  },
  {
   "cell_type": "markdown",
   "id": "0c75c17e",
   "metadata": {},
   "source": [
    "# 1. Data Collection from defaulted loan"
   ]
  },
  {
   "cell_type": "code",
   "execution_count": 105,
   "id": "5b3d274f",
   "metadata": {
    "scrolled": true
   },
   "outputs": [
    {
     "name": "stdout",
     "output_type": "stream",
     "text": [
      "2003Q1 (17364, 67)\n",
      "2003Q2 (23921, 67)\n"
     ]
    },
    {
     "name": "stderr",
     "output_type": "stream",
     "text": [
      "C:\\Users\\prith\\AppData\\Local\\Temp\\ipykernel_23824\\2666492242.py:7: DtypeWarning: Columns (64) have mixed types. Specify dtype option on import or set low_memory=False.\n",
      "  data2 = pd.read_csv(\"../Data_files/\"+ year + quarter +\".csv\")\n"
     ]
    },
    {
     "name": "stdout",
     "output_type": "stream",
     "text": [
      "2003Q3 (27929, 67)\n",
      "2003Q4 (17857, 67)\n",
      "2004Q1 (12137, 67)\n",
      "2004Q2 (16300, 67)\n",
      "2004Q3 (12402, 67)\n",
      "2004Q4 (14121, 67)\n",
      "2005Q1 (12887, 67)\n",
      "2005Q2 (17228, 67)\n"
     ]
    },
    {
     "name": "stderr",
     "output_type": "stream",
     "text": [
      "C:\\Users\\prith\\AppData\\Local\\Temp\\ipykernel_23824\\2666492242.py:7: DtypeWarning: Columns (64) have mixed types. Specify dtype option on import or set low_memory=False.\n",
      "  data2 = pd.read_csv(\"../Data_files/\"+ year + quarter +\".csv\")\n"
     ]
    },
    {
     "name": "stdout",
     "output_type": "stream",
     "text": [
      "2005Q3 (26075, 67)\n",
      "2005Q4 (25542, 67)\n",
      "2006Q1 (19104, 67)\n",
      "2006Q2 (23000, 67)\n",
      "2006Q3 (21439, 67)\n",
      "2006Q4 (23838, 67)\n",
      "2007Q1 (21592, 67)\n"
     ]
    },
    {
     "name": "stderr",
     "output_type": "stream",
     "text": [
      "C:\\Users\\prith\\AppData\\Local\\Temp\\ipykernel_23824\\2666492242.py:7: DtypeWarning: Columns (64) have mixed types. Specify dtype option on import or set low_memory=False.\n",
      "  data2 = pd.read_csv(\"../Data_files/\"+ year + quarter +\".csv\")\n"
     ]
    },
    {
     "name": "stdout",
     "output_type": "stream",
     "text": [
      "2007Q2 (24627, 67)\n",
      "2007Q3 (26399, 67)\n",
      "2007Q4 (38510, 67)\n",
      "2008Q1 (28258, 67)\n",
      "2008Q2 (24050, 67)\n",
      "2008Q3 (17103, 67)\n",
      "2008Q4 (10973, 67)\n"
     ]
    }
   ],
   "source": [
    "appended_data = []\n",
    "#change here to switch between before crisis and after crisis\n",
    "years = list(map(str, range(2003, 2009)))\n",
    "quarters = [ 'Q1', 'Q2', 'Q3', 'Q4']\n",
    "for year in years: \n",
    "    for quarter in quarters:\n",
    "        data2 = pd.read_csv(\"../Data_files/\"+ year + quarter +\".csv\")\n",
    "        print(year + quarter, data2.shape)\n",
    "        appended_data.append(data2)\n",
    "        \n",
    "data = pd.concat(appended_data)\n",
    "    \n",
    "# Some basic formating  \n",
    "data.reset_index(inplace = True)\n",
    "data.drop('index', axis=1, inplace=True)"
   ]
  },
  {
   "cell_type": "code",
   "execution_count": 106,
   "id": "125b2044",
   "metadata": {
    "scrolled": true
   },
   "outputs": [
    {
     "name": "stdout",
     "output_type": "stream",
     "text": [
      "SERVICER                                  502656\n",
      "CURR_RATE                                 492727\n",
      "LOAN_AGE                                  502656\n",
      "REM_MONTHS                                502656\n",
      "ADJ_REM_MONTHS                            502656\n",
      "MATR_DT                                   502656\n",
      "PMT_HISTORY                               502656\n",
      "MOD_FLAG                                  493693\n",
      "TOT_SCHD_PRNCPL                           492800\n",
      "NON_INTEREST_BEARING_UPB                  496958\n",
      "PRINCIPAL_FORGIVENESS_AMOUNT              496900\n",
      "SERV_IND                                  502656\n",
      "FORECLOSURE_PRINCIPAL_WRITE_OFF_AMOUNT    496640\n",
      "FORBEARANCE_INDICATOR                     492720\n",
      "ADR_TYPE                                  492720\n",
      "ADR_COUNT                                 502299\n",
      "ADR_UPB                                   502301\n",
      "dtype: int64\n"
     ]
    }
   ],
   "source": [
    "# Removing all columns which contain more than 90% null values\n",
    "null_count = data.isnull().sum()\n",
    "null_columns = null_count[null_count > data.shape[0]*(0.9)]\n",
    "print(null_columns)\n",
    "remove_columns = list(set(null_columns.index) - set(['CURR_RATE', 'NON_INTEREST_BEARING_UPB']))\n",
    "data.drop(remove_columns , axis=1, inplace=True)"
   ]
  },
  {
   "cell_type": "code",
   "execution_count": 107,
   "id": "79368671",
   "metadata": {},
   "outputs": [
    {
     "name": "stdout",
     "output_type": "stream",
     "text": [
      "ORIG_DATE\n",
      "LAST_PAID_INSTALLMENT_DATE\n",
      "FORECLOSURE_DATE\n",
      "DISPOSITION_DATE\n",
      "FIRST_PAY\n",
      "ZB_DTE\n"
     ]
    }
   ],
   "source": [
    "date_cols = ['ORIG_DATE', 'LAST_PAID_INSTALLMENT_DATE', 'FORECLOSURE_DATE', 'DISPOSITION_DATE', 'FIRST_PAY', 'ZB_DTE']\n",
    "for date_col in date_cols:\n",
    "    print(date_col)\n",
    "    #data[date_col] = data[date_col].astype('Int64').astype(str)\n",
    "    data[date_col+'_m'] =  pd.to_numeric(data[date_col].astype('Int64').astype(str).str[:-4], errors='coerce')\n",
    "    data[date_col+'_y'] =  pd.to_numeric(data[date_col].astype('Int64').astype(str).str[-4:], errors='coerce') \n",
    "    \n",
    "# dropping the original date columns at the end of macroeconomic variables integration in Model_A2"
   ]
  },
  {
   "cell_type": "code",
   "execution_count": 108,
   "id": "dcf1a9d7",
   "metadata": {},
   "outputs": [],
   "source": [
    "date_colsF= ['ORIG_DATE_m', 'ORIG_DATE_y', 'LAST_PAID_INSTALLMENT_DATE_m',\n",
    "       'LAST_PAID_INSTALLMENT_DATE_y', 'FORECLOSURE_DATE_m',\n",
    "       'FORECLOSURE_DATE_y', 'DISPOSITION_DATE_m', 'DISPOSITION_DATE_y', \n",
    "      'FIRST_PAY_m', 'FIRST_PAY_y', 'ZB_DTE_m', 'ZB_DTE_y']\n",
    "\n",
    "for dt_col in date_colsF:\n",
    "    data[dt_col] = data[dt_col].astype('Int64')"
   ]
  },
  {
   "cell_type": "code",
   "execution_count": 109,
   "id": "187eb868",
   "metadata": {},
   "outputs": [],
   "source": [
    "# the columns CURR_RATE and NON_INTEREST_BEARING_UPB have high null value\n",
    "\n",
    "#The NON_INTEREST_BEARING_UPB can be made zero for Nan value\n",
    "#Substitute CURR_RATE with Origination_rate\n",
    "#Substituting Disposition_date with Zero_balance_effective_date\n",
    "data['NON_INTEREST_BEARING_UPB'] = data['NON_INTEREST_BEARING_UPB'].fillna(0)\n",
    "data['DISPOSITION_DATE_y'] = data['DISPOSITION_DATE_y'].fillna(data['FORECLOSURE_DATE_y'])"
   ]
  },
  {
   "cell_type": "code",
   "execution_count": 110,
   "id": "6b71cff2",
   "metadata": {},
   "outputs": [],
   "source": [
    "data['ACCRUED_INT'] =  (data['DISPOSITION_DATE_y'] * 12 + data['DISPOSITION_DATE_m']- \\\n",
    "                    data['LAST_PAID_INSTALLMENT_DATE_y'] * 12 - data['LAST_PAID_INSTALLMENT_DATE_m']) * \\\n",
    "                    (((data['ORIG_RATE'] / 100) - 0.0035) / 12) * (data['LAST_UPB'] - data['NON_INTEREST_BEARING_UPB'])\n",
    "data['ACCRUED_INT'] = data['ACCRUED_INT'].fillna(0)\n",
    "data['ACCRUED_INT'] = data['ACCRUED_INT'].apply(lambda x: x if x > 0 else 0)"
   ]
  },
  {
   "cell_type": "code",
   "execution_count": 111,
   "id": "2d230d1d",
   "metadata": {},
   "outputs": [
    {
     "data": {
      "text/plain": [
       "LAST_UPB                                           0\n",
       "FORECLOSURE_COSTS                               9220\n",
       "PROPERTY_PRESERVATION_AND_REPAIR_COSTS         57524\n",
       "ASSET_RECOVERY_COSTS                          105885\n",
       "MISCELLANEOUS_HOLDING_EXPENSES_AND_CREDITS     28300\n",
       "ASSOCIATED_TAXES_FOR_HOLDING_PROPERTY          36916\n",
       "NET_SALES_PROCEEDS                              8808\n",
       "CREDIT_ENHANCEMENT_PROCEEDS                   152626\n",
       "OTHER_FORECLOSURE_PROCEEDS                    104780\n",
       "dtype: int64"
      ]
     },
     "execution_count": 111,
     "metadata": {},
     "output_type": "execute_result"
    }
   ],
   "source": [
    "#Loss calculation\n",
    "loss_calculation_cols = ['LAST_UPB', 'FORECLOSURE_COSTS', 'PROPERTY_PRESERVATION_AND_REPAIR_COSTS', 'ASSET_RECOVERY_COSTS', \n",
    "               'MISCELLANEOUS_HOLDING_EXPENSES_AND_CREDITS', 'ASSOCIATED_TAXES_FOR_HOLDING_PROPERTY',\n",
    "     'NET_SALES_PROCEEDS', 'CREDIT_ENHANCEMENT_PROCEEDS', 'OTHER_FORECLOSURE_PROCEEDS']\n",
    "data[loss_calculation_cols].isnull().sum()"
   ]
  },
  {
   "cell_type": "code",
   "execution_count": 112,
   "id": "54ce770e",
   "metadata": {},
   "outputs": [
    {
     "data": {
      "text/plain": [
       "count    502656.000000\n",
       "mean     161424.140698\n",
       "std       92325.559017\n",
       "min           0.000000\n",
       "25%       89573.010000\n",
       "50%      144405.210000\n",
       "75%      216399.502500\n",
       "max      877348.120000\n",
       "Name: LAST_UPB, dtype: float64"
      ]
     },
     "execution_count": 112,
     "metadata": {},
     "output_type": "execute_result"
    }
   ],
   "source": [
    "#Visualising last unpaid balance column\n",
    "data['LAST_UPB'].describe()"
   ]
  },
  {
   "cell_type": "code",
   "execution_count": 113,
   "id": "3c468201",
   "metadata": {},
   "outputs": [],
   "source": [
    "# We are not considering the data having loss up to $100\n",
    "data = data[data['LAST_UPB']> 100.0]\n",
    "\n",
    "for col in loss_calculation_cols:\n",
    "    data[col].fillna(0, inplace=True)\n",
    "    \n",
    "data['LOSS'] = (data['LAST_UPB'] \\\n",
    "               +data['FORECLOSURE_COSTS']  \\\n",
    "               +data['PROPERTY_PRESERVATION_AND_REPAIR_COSTS'] \\\n",
    "               +data['ASSET_RECOVERY_COSTS']  \\\n",
    "               +data['MISCELLANEOUS_HOLDING_EXPENSES_AND_CREDITS']  \\\n",
    "               +data['ASSOCIATED_TAXES_FOR_HOLDING_PROPERTY']  \\\n",
    "                +data['ACCRUED_INT'] \\\n",
    "               -data['NET_SALES_PROCEEDS']  \\\n",
    "               -data['CREDIT_ENHANCEMENT_PROCEEDS'] \\\n",
    "               -data['OTHER_FORECLOSURE_PROCEEDS'])\n",
    "data['LOSS'] = data['LOSS'].round(2)"
   ]
  },
  {
   "cell_type": "code",
   "execution_count": 114,
   "id": "b4e198a1",
   "metadata": {},
   "outputs": [
    {
     "data": {
      "text/plain": [
       "<AxesSubplot:>"
      ]
     },
     "execution_count": 114,
     "metadata": {},
     "output_type": "execute_result"
    },
    {
     "data": {
      "image/png": "[encoded data removed]",
      "text/plain": [
       "<Figure size 640x480 with 1 Axes>"
      ]
     },
     "metadata": {},
     "output_type": "display_data"
    }
   ],
   "source": [
    "data['LOSS'].hist(bins=200)"
   ]
  },
  {
   "cell_type": "markdown",
   "id": "21d467ea",
   "metadata": {},
   "source": [
    "# 2. integrate the macroeconomic & state wise variables"
   ]
  },
  {
   "cell_type": "code",
   "execution_count": 115,
   "id": "91a305d2",
   "metadata": {},
   "outputs": [],
   "source": [
    "FHA30yr_data = pd.read_csv(\"./MacroEconomicToMerge/FHA30YearRate.csv\")\n",
    "FHA30yr_data.drop(\"DATE\", axis = 1, inplace=True)\n",
    "\n",
    "Unemployment_data = pd.read_csv(\"./MacroEconomicToMerge/UnemploymentRate.csv\", index_col=0)\n",
    "\n",
    "State_HPI = pd.read_csv(\"./MacroEconomicToMerge/State_HPI.csv\", index_col=0)\n",
    "State_HPI2 = pd.read_csv(\"./MacroEconomicToMerge/State_HPI.csv\", index_col=0)\n",
    "\n",
    "State_HPI = State_HPI.rename(columns = {'DATE' : 'ORIG_DATE', 'HPI' : 'Orig_HPI', 'State' : 'STATE'})\n",
    "State_HPI2 = State_HPI2.rename(columns = {'DATE' : 'DISPOSITION_DATE', 'HPI' : 'Disp_HPI', 'State' : 'STATE'})\n"
   ]
  },
  {
   "cell_type": "code",
   "execution_count": 116,
   "id": "439e0bf2",
   "metadata": {},
   "outputs": [],
   "source": [
    "data = data.merge(FHA30yr_data, on = 'ZB_DTE', how='left')\n",
    "\n",
    "Unemployment_data = Unemployment_data.rename({'DATE': 'ZB_DTE'}, axis = 1)\n",
    "data = data.merge(Unemployment_data, on = 'ZB_DTE', how='left')\n",
    "\n",
    "data = data.merge(State_HPI, on = ['ORIG_DATE', 'STATE'], how='left')\n",
    "data = data.merge(State_HPI2, on = ['DISPOSITION_DATE', 'STATE'], how='left')\n"
   ]
  },
  {
   "cell_type": "code",
   "execution_count": 117,
   "id": "17665aab",
   "metadata": {},
   "outputs": [],
   "source": [
    "data['MTM_LTV'] = data['LAST_UPB']/(data['ORIG_UPB']/data['OLTV']/data['Orig_HPI']*data['Disp_HPI'])\n"
   ]
  },
  {
   "cell_type": "code",
   "execution_count": 138,
   "id": "9152b3d3",
   "metadata": {},
   "outputs": [
    {
     "data": {
      "text/plain": [
       "0         46.585631\n",
       "1         57.555854\n",
       "2         84.417459\n",
       "3         62.443259\n",
       "4         46.494219\n",
       "            ...    \n",
       "502615    92.150509\n",
       "502616    87.742573\n",
       "502617    71.963301\n",
       "502618    98.159220\n",
       "502619    70.150645\n",
       "Name: MTM_LTV, Length: 502620, dtype: float64"
      ]
     },
     "execution_count": 138,
     "metadata": {},
     "output_type": "execute_result"
    }
   ],
   "source": [
    "data['MTM_LTV']"
   ]
  },
  {
   "cell_type": "code",
   "execution_count": 118,
   "id": "abcbbdea",
   "metadata": {},
   "outputs": [],
   "source": [
    "#calculating Loann age\n",
    "data['Loan_age'] = data['DISPOSITION_DATE_y'] + data['DISPOSITION_DATE_m']/12 - (data['ORIG_DATE_y'] + data['ORIG_DATE_m']/12 )"
   ]
  },
  {
   "cell_type": "code",
   "execution_count": 119,
   "id": "02d74730",
   "metadata": {},
   "outputs": [],
   "source": [
    "from MacroEconomicToMerge.state_foreclosure import method_of_foreclosure_and_time\n",
    "\n",
    "method_of_foreclosure_and_time = pd.DataFrame(method_of_foreclosure_and_time, columns=['STATE', 'method_of_foreclosurer', 'time_to_foreclose'])\n",
    "\n",
    "data = data.merge(method_of_foreclosure_and_time, on = 'STATE', how='left')"
   ]
  },
  {
   "cell_type": "code",
   "execution_count": 120,
   "id": "523d68c0",
   "metadata": {},
   "outputs": [],
   "source": [
    "#removing the unrequired date  columns here\n",
    "data.drop(date_cols, axis= 1, inplace=True)"
   ]
  },
  {
   "cell_type": "code",
   "execution_count": 121,
   "id": "358b31e3",
   "metadata": {},
   "outputs": [],
   "source": [
    "# Comment the first line after running this, Uncomment the second line for regaining checkpoint\n",
    "#data_check = data.copy(deep=True)\n",
    "#data = data_check.copy()"
   ]
  },
  {
   "cell_type": "markdown",
   "id": "f3a3f4ef",
   "metadata": {},
   "source": [
    "# 3. Final data formatting and selection of columns as predictors"
   ]
  },
  {
   "cell_type": "code",
   "execution_count": 122,
   "id": "aed9f677",
   "metadata": {},
   "outputs": [],
   "source": [
    "data.rename({'HIGH_BALANCE_LOAN_INDICATOR': 'HIGH_BAl',\n",
    "             'method_of_foreclosurer' : 'method_fore',\n",
    "             'FORECLOSURE_PRINCIPAL_WRITE_OFF_AMOUNT': 'principal_writeoff'\n",
    "            }, axis=1, inplace=True)"
   ]
  },
  {
   "cell_type": "code",
   "execution_count": 123,
   "id": "172dd722",
   "metadata": {},
   "outputs": [],
   "source": [
    "data = pd.get_dummies(data, columns=['PURPOSE', 'HIGH_BAl', 'method_fore', 'Zero_Bal_Code'], drop_first=True)"
   ]
  },
  {
   "cell_type": "code",
   "execution_count": 124,
   "id": "e7e70beb",
   "metadata": {
    "scrolled": true
   },
   "outputs": [],
   "source": [
    "# ID is a non-predictor column, SELLER is too-much varialble right now\n",
    "# State column has been used by macroeconomic variable- method_of_foreclosurer\n",
    "unwanted_cols = set(loss_calculation_cols + ['LOAN_ID', 'SELLER', 'STATE']) - set(['LAST_UPB'])\n",
    "\n",
    "#new variable for data declared\n",
    "wdata = data.drop(unwanted_cols, axis = 1)"
   ]
  },
  {
   "cell_type": "code",
   "execution_count": 125,
   "id": "287a4b4f",
   "metadata": {},
   "outputs": [
    {
     "name": "stdout",
     "output_type": "stream",
     "text": [
      "CURR_RATE                          492712\n",
      "CSCORE_C                           336562\n",
      "MI_PCT                             350215\n",
      "IO                                  80323\n",
      "REPURCHASES_MAKE_WHOLE_PROCEEDS    188860\n",
      "MI_TYPE                            350215\n",
      "dtype: int64\n"
     ]
    }
   ],
   "source": [
    "# max amount of data we can loose = 10%\n",
    "max_loose = 0.1\n",
    "\n",
    "nulls_final = wdata.isnull().sum(axis = 0)\n",
    "tobe_removed = nulls_final[nulls_final > data.shape[0]*max_loose]\n",
    "print(tobe_removed)\n",
    "wdata.drop(list(tobe_removed.index), axis=1, inplace=True)"
   ]
  },
  {
   "cell_type": "code",
   "execution_count": 126,
   "id": "ef23058f",
   "metadata": {},
   "outputs": [
    {
     "data": {
      "text/plain": [
       "<AxesSubplot:>"
      ]
     },
     "execution_count": 126,
     "metadata": {},
     "output_type": "execute_result"
    },
    {
     "data": {
      "image/png": "[encoded data removed]",
      "text/plain": [
       "<Figure size 640x480 with 1 Axes>"
      ]
     },
     "metadata": {},
     "output_type": "display_data"
    }
   ],
   "source": [
    "wdata['Lossper_GD'] = (wdata['LOSS']/wdata['LAST_UPB'])*100\n",
    "wdata[(wdata['Lossper_GD']>-500) & (wdata['Lossper_GD']<1000)]['Lossper_GD'].hist(bins=200)"
   ]
  },
  {
   "cell_type": "code",
   "execution_count": 127,
   "id": "42517f84",
   "metadata": {
    "scrolled": true
   },
   "outputs": [],
   "source": [
    "#wdata.to_csv('../CleanData.csv')"
   ]
  },
  {
   "cell_type": "markdown",
   "id": "3746fe8c",
   "metadata": {},
   "source": [
    "# OLS"
   ]
  },
  {
   "cell_type": "code",
   "execution_count": 128,
   "id": "30001ea1",
   "metadata": {},
   "outputs": [],
   "source": [
    "from math import log\n",
    "from sklearn.model_selection import train_test_split, cross_val_score, RepeatedKFold\n",
    "from sklearn.linear_model import LinearRegression\n",
    "from sklearn.metrics import r2_score, mean_squared_error\n",
    "from sklearn.preprocessing import StandardScaler\n",
    "import random\n",
    "\n",
    "random.seed(10)\n",
    "from pyearth import Earth"
   ]
  },
  {
   "cell_type": "code",
   "execution_count": 129,
   "id": "6596aaed",
   "metadata": {},
   "outputs": [
    {
     "name": "stderr",
     "output_type": "stream",
     "text": [
      "C:\\Users\\prith\\AppData\\Local\\Temp\\ipykernel_23824\\4233065074.py:2: FutureWarning: In a future version of pandas all arguments of DataFrame.dropna will be keyword-only.\n",
      "  wdata.dropna(0, inplace=True)\n"
     ]
    },
    {
     "name": "stdout",
     "output_type": "stream",
     "text": [
      "(475757, 57)\n"
     ]
    }
   ],
   "source": [
    "# important before starting regression\n",
    "wdata.dropna(0, inplace=True)\n",
    "print(wdata.shape)"
   ]
  },
  {
   "cell_type": "code",
   "execution_count": 130,
   "id": "bc4403b7",
   "metadata": {},
   "outputs": [
    {
     "data": {
      "text/plain": [
       "Index(['ACT_PERIOD', 'CHANNEL', 'ORIG_RATE', 'ORIG_UPB', 'CURRENT_UPB',\n",
       "       'ORIG_TERM', 'OLTV', 'OCLTV', 'NUM_BO', 'DTI', 'CSCORE_B', 'FIRST_FLAG',\n",
       "       'PROP', 'NO_UNITS', 'OCC_STAT', 'MSA', 'ZIP', 'PRODUCT', 'PPMT_FLG',\n",
       "       'DLQ_STATUS', 'LAST_UPB', 'NON_INTEREST_BEARING_UPB',\n",
       "       'HOMEREADY_PROGRAM_INDICATOR', 'RELOCATION_MORTGAGE_INDICATOR',\n",
       "       'HIGH_LOAN_TO_VALUE_HLTV_REFINANCE_OPTION_INDICATOR', 'RE_PROCS_FLAG',\n",
       "       'ORIG_DATE_m', 'ORIG_DATE_y', 'LAST_PAID_INSTALLMENT_DATE_m',\n",
       "       'LAST_PAID_INSTALLMENT_DATE_y', 'FORECLOSURE_DATE_m',\n",
       "       'FORECLOSURE_DATE_y', 'DISPOSITION_DATE_m', 'DISPOSITION_DATE_y',\n",
       "       'FIRST_PAY_m', 'FIRST_PAY_y', 'ZB_DTE_m', 'ZB_DTE_y', 'ACCRUED_INT',\n",
       "       'LOSS', 'FHA_Mean', 'UNEmpRate', 'Orig_HPI', 'Disp_HPI', 'MTM_LTV',\n",
       "       'Loan_age', 'time_to_foreclose', 'PURPOSE_P', 'PURPOSE_R', 'PURPOSE_U',\n",
       "       'method_fore_Judicial', 'method_fore_Power-of-Sale',\n",
       "       'method_fore_Strict Foreclosure', 'Zero_Bal_Code_3.0',\n",
       "       'Zero_Bal_Code_9.0', 'Zero_Bal_Code_15.0', 'Lossper_GD'],\n",
       "      dtype='object')"
      ]
     },
     "execution_count": 130,
     "metadata": {},
     "output_type": "execute_result"
    }
   ],
   "source": [
    "wdata.columns"
   ]
  },
  {
   "cell_type": "markdown",
   "id": "d040d883",
   "metadata": {},
   "source": [
    "LOSS/LGD Prediction"
   ]
  },
  {
   "cell_type": "code",
   "execution_count": 131,
   "id": "e0005c11",
   "metadata": {},
   "outputs": [],
   "source": [
    "# Doing a random split now, \n",
    "#can be converted into time based split later\n",
    "\n",
    "#outliers filtering \n",
    "sdata = wdata[(wdata['Lossper_GD']>-200) & (wdata['Lossper_GD']<400)]\n",
    "\n",
    "train, evaluate = train_test_split(sdata, test_size=0.2)"
   ]
  },
  {
   "cell_type": "code",
   "execution_count": 132,
   "id": "9262030c",
   "metadata": {},
   "outputs": [],
   "source": [
    "#switch here between LOSS and Lossper_GD\n",
    "output = 'Lossper_GD'\n",
    "\n",
    "# loan age\n",
    "# zero balance one hot -encoded\n",
    "\n",
    "predictors= ['ORIG_RATE',  'ORIG_TERM', 'ORIG_UPB','LAST_UPB', 'OLTV', 'CSCORE_B','ORIG_DATE_m', 'ORIG_DATE_y',\n",
    "           'UNEmpRate', 'time_to_foreclose', 'PURPOSE_P',\n",
    "       'PURPOSE_R', 'method_fore_Judicial', 'OCLTV', 'Disp_HPI', 'FHA_Mean', 'Orig_HPI', 'UNEmpRate', 'MTM_LTV',\n",
    "       'method_fore_Power-of-Sale', 'method_fore_Strict Foreclosure',\n",
    "       'LAST_PAID_INSTALLMENT_DATE_m', 'LAST_PAID_INSTALLMENT_DATE_y',\n",
    "       'FORECLOSURE_DATE_m', 'FORECLOSURE_DATE_y', 'DISPOSITION_DATE_m',\n",
    "       'DISPOSITION_DATE_y', 'Zero_Bal_Code_3.0','Zero_Bal_Code_9.0', 'Zero_Bal_Code_15.0',]\n",
    "\n",
    "Y_train = train[output]\n",
    "#'HIGH_BAl_Y' - May not be present because it has unique value\n",
    "X_train = train[predictors]\n",
    "\n",
    "Y_eval = evaluate[output]\n",
    "X_eval = evaluate[predictors]"
   ]
  },
  {
   "cell_type": "code",
   "execution_count": 133,
   "id": "bd7e201a",
   "metadata": {},
   "outputs": [],
   "source": [
    "# calculate aic for regression\n",
    "def calculate_aic(n, mse, num_params):\n",
    " aic = n * log(mse) + 2 * num_params\n",
    " return aic\n",
    "# calculate bic for regression\n",
    "def calculate_bic(n, mse, num_params):\n",
    " bic = n * log(mse) + num_params * log(n)\n",
    " return bic"
   ]
  },
  {
   "cell_type": "code",
   "execution_count": 134,
   "id": "c8a62bdd",
   "metadata": {},
   "outputs": [],
   "source": [
    "X_train_ = sm.add_constant(X_train)\n",
    "model = sm.OLS(Y_train,X_train_.astype(float))\n",
    "results = model.fit()"
   ]
  },
  {
   "cell_type": "code",
   "execution_count": 135,
   "id": "ec5ecfe3",
   "metadata": {},
   "outputs": [
    {
     "data": {
      "text/html": [
       "<table class=\"simpletable\">\n",
       "<caption>OLS Regression Results</caption>\n",
       "<tr>\n",
       "  <th>Dep. Variable:</th>       <td>Lossper_GD</td>    <th>  R-squared:         </th>  <td>   0.385</td>  \n",
       "</tr>\n",
       "<tr>\n",
       "  <th>Model:</th>                   <td>OLS</td>       <th>  Adj. R-squared:    </th>  <td>   0.384</td>  \n",
       "</tr>\n",
       "<tr>\n",
       "  <th>Method:</th>             <td>Least Squares</td>  <th>  F-statistic:       </th>  <td>   8196.</td>  \n",
       "</tr>\n",
       "<tr>\n",
       "  <th>Date:</th>             <td>Fri, 01 Dec 2023</td> <th>  Prob (F-statistic):</th>   <td>  0.00</td>   \n",
       "</tr>\n",
       "<tr>\n",
       "  <th>Time:</th>                 <td>00:02:16</td>     <th>  Log-Likelihood:    </th> <td>-1.8081e+06</td>\n",
       "</tr>\n",
       "<tr>\n",
       "  <th>No. Observations:</th>      <td>380480</td>      <th>  AIC:               </th>  <td>3.616e+06</td> \n",
       "</tr>\n",
       "<tr>\n",
       "  <th>Df Residuals:</th>          <td>380450</td>      <th>  BIC:               </th>  <td>3.617e+06</td> \n",
       "</tr>\n",
       "<tr>\n",
       "  <th>Df Model:</th>              <td>    29</td>      <th>                     </th>      <td> </td>     \n",
       "</tr>\n",
       "<tr>\n",
       "  <th>Covariance Type:</th>      <td>nonrobust</td>    <th>                     </th>      <td> </td>     \n",
       "</tr>\n",
       "</table>\n",
       "<table class=\"simpletable\">\n",
       "<tr>\n",
       "                 <td></td>                   <th>coef</th>     <th>std err</th>      <th>t</th>      <th>P>|t|</th>  <th>[0.025</th>    <th>0.975]</th>  \n",
       "</tr>\n",
       "<tr>\n",
       "  <th>const</th>                          <td>-2149.0721</td> <td>   86.529</td> <td>  -24.836</td> <td> 0.000</td> <td>-2318.666</td> <td>-1979.478</td>\n",
       "</tr>\n",
       "<tr>\n",
       "  <th>ORIG_RATE</th>                      <td>   10.6071</td> <td>    0.104</td> <td>  102.146</td> <td> 0.000</td> <td>   10.404</td> <td>   10.811</td>\n",
       "</tr>\n",
       "<tr>\n",
       "  <th>ORIG_TERM</th>                      <td>   -0.0463</td> <td>    0.001</td> <td>  -40.487</td> <td> 0.000</td> <td>   -0.049</td> <td>   -0.044</td>\n",
       "</tr>\n",
       "<tr>\n",
       "  <th>ORIG_UPB</th>                       <td>   -0.0002</td> <td> 3.66e-06</td> <td>  -60.850</td> <td> 0.000</td> <td>   -0.000</td> <td>   -0.000</td>\n",
       "</tr>\n",
       "<tr>\n",
       "  <th>LAST_UPB</th>                       <td>    0.0001</td> <td> 3.79e-06</td> <td>   26.404</td> <td> 0.000</td> <td> 9.26e-05</td> <td>    0.000</td>\n",
       "</tr>\n",
       "<tr>\n",
       "  <th>OLTV</th>                           <td>   -0.2754</td> <td>    0.012</td> <td>  -22.089</td> <td> 0.000</td> <td>   -0.300</td> <td>   -0.251</td>\n",
       "</tr>\n",
       "<tr>\n",
       "  <th>CSCORE_B</th>                       <td>    0.0074</td> <td>    0.001</td> <td>    8.645</td> <td> 0.000</td> <td>    0.006</td> <td>    0.009</td>\n",
       "</tr>\n",
       "<tr>\n",
       "  <th>ORIG_DATE_m</th>                    <td>   -0.1846</td> <td>    0.014</td> <td>  -13.249</td> <td> 0.000</td> <td>   -0.212</td> <td>   -0.157</td>\n",
       "</tr>\n",
       "<tr>\n",
       "  <th>ORIG_DATE_y</th>                    <td>   -1.0988</td> <td>    0.037</td> <td>  -29.665</td> <td> 0.000</td> <td>   -1.171</td> <td>   -1.026</td>\n",
       "</tr>\n",
       "<tr>\n",
       "  <th>UNEmpRate</th>                      <td>    1.1513</td> <td>    0.018</td> <td>   64.489</td> <td> 0.000</td> <td>    1.116</td> <td>    1.186</td>\n",
       "</tr>\n",
       "<tr>\n",
       "  <th>time_to_foreclose</th>              <td>    0.0040</td> <td>    0.000</td> <td>   15.765</td> <td> 0.000</td> <td>    0.004</td> <td>    0.005</td>\n",
       "</tr>\n",
       "<tr>\n",
       "  <th>PURPOSE_P</th>                      <td>  -10.3220</td> <td>    0.121</td> <td>  -85.153</td> <td> 0.000</td> <td>  -10.560</td> <td>  -10.084</td>\n",
       "</tr>\n",
       "<tr>\n",
       "  <th>PURPOSE_R</th>                      <td>   -2.0091</td> <td>    0.120</td> <td>  -16.679</td> <td> 0.000</td> <td>   -2.245</td> <td>   -1.773</td>\n",
       "</tr>\n",
       "<tr>\n",
       "  <th>method_fore_Judicial</th>           <td>    0.8978</td> <td>    0.748</td> <td>    1.200</td> <td> 0.230</td> <td>   -0.568</td> <td>    2.364</td>\n",
       "</tr>\n",
       "<tr>\n",
       "  <th>OCLTV</th>                          <td>    0.1691</td> <td>    0.011</td> <td>   15.354</td> <td> 0.000</td> <td>    0.147</td> <td>    0.191</td>\n",
       "</tr>\n",
       "<tr>\n",
       "  <th>Disp_HPI</th>                       <td>   -0.0903</td> <td>    0.001</td> <td>  -61.234</td> <td> 0.000</td> <td>   -0.093</td> <td>   -0.087</td>\n",
       "</tr>\n",
       "<tr>\n",
       "  <th>FHA_Mean</th>                       <td>    4.2247</td> <td>    0.095</td> <td>   44.289</td> <td> 0.000</td> <td>    4.038</td> <td>    4.412</td>\n",
       "</tr>\n",
       "<tr>\n",
       "  <th>Orig_HPI</th>                       <td>    0.0930</td> <td>    0.001</td> <td>   72.744</td> <td> 0.000</td> <td>    0.091</td> <td>    0.096</td>\n",
       "</tr>\n",
       "<tr>\n",
       "  <th>UNEmpRate</th>                      <td>    1.1513</td> <td>    0.018</td> <td>   64.489</td> <td> 0.000</td> <td>    1.116</td> <td>    1.186</td>\n",
       "</tr>\n",
       "<tr>\n",
       "  <th>MTM_LTV</th>                        <td>    0.1592</td> <td>    0.005</td> <td>   29.356</td> <td> 0.000</td> <td>    0.149</td> <td>    0.170</td>\n",
       "</tr>\n",
       "<tr>\n",
       "  <th>method_fore_Power-of-Sale</th>      <td>   -2.7553</td> <td>    0.759</td> <td>   -3.631</td> <td> 0.000</td> <td>   -4.242</td> <td>   -1.268</td>\n",
       "</tr>\n",
       "<tr>\n",
       "  <th>method_fore_Strict Foreclosure</th> <td>   -0.0637</td> <td>    0.865</td> <td>   -0.074</td> <td> 0.941</td> <td>   -1.758</td> <td>    1.631</td>\n",
       "</tr>\n",
       "<tr>\n",
       "  <th>LAST_PAID_INSTALLMENT_DATE_m</th>   <td>   -0.6674</td> <td>    0.014</td> <td>  -47.944</td> <td> 0.000</td> <td>   -0.695</td> <td>   -0.640</td>\n",
       "</tr>\n",
       "<tr>\n",
       "  <th>LAST_PAID_INSTALLMENT_DATE_y</th>   <td>   -7.9497</td> <td>    0.043</td> <td> -185.955</td> <td> 0.000</td> <td>   -8.033</td> <td>   -7.866</td>\n",
       "</tr>\n",
       "<tr>\n",
       "  <th>FORECLOSURE_DATE_m</th>             <td>   -0.3566</td> <td>    0.017</td> <td>  -20.511</td> <td> 0.000</td> <td>   -0.391</td> <td>   -0.323</td>\n",
       "</tr>\n",
       "<tr>\n",
       "  <th>FORECLOSURE_DATE_y</th>             <td>   -3.9199</td> <td>    0.123</td> <td>  -31.789</td> <td> 0.000</td> <td>   -4.162</td> <td>   -3.678</td>\n",
       "</tr>\n",
       "<tr>\n",
       "  <th>DISPOSITION_DATE_m</th>             <td>    1.1003</td> <td>    0.017</td> <td>   65.606</td> <td> 0.000</td> <td>    1.067</td> <td>    1.133</td>\n",
       "</tr>\n",
       "<tr>\n",
       "  <th>DISPOSITION_DATE_y</th>             <td>   14.0043</td> <td>    0.113</td> <td>  124.469</td> <td> 0.000</td> <td>   13.784</td> <td>   14.225</td>\n",
       "</tr>\n",
       "<tr>\n",
       "  <th>Zero_Bal_Code_3.0</th>              <td>   11.6938</td> <td>    0.208</td> <td>   56.269</td> <td> 0.000</td> <td>   11.286</td> <td>   12.101</td>\n",
       "</tr>\n",
       "<tr>\n",
       "  <th>Zero_Bal_Code_9.0</th>              <td>   15.3753</td> <td>    0.197</td> <td>   77.936</td> <td> 0.000</td> <td>   14.989</td> <td>   15.762</td>\n",
       "</tr>\n",
       "<tr>\n",
       "  <th>Zero_Bal_Code_15.0</th>             <td>   14.1032</td> <td>    0.272</td> <td>   51.873</td> <td> 0.000</td> <td>   13.570</td> <td>   14.636</td>\n",
       "</tr>\n",
       "</table>\n",
       "<table class=\"simpletable\">\n",
       "<tr>\n",
       "  <th>Omnibus:</th>       <td>48175.080</td> <th>  Durbin-Watson:     </th>  <td>   1.995</td> \n",
       "</tr>\n",
       "<tr>\n",
       "  <th>Prob(Omnibus):</th>  <td> 0.000</td>   <th>  Jarque-Bera (JB):  </th> <td>273782.245</td>\n",
       "</tr>\n",
       "<tr>\n",
       "  <th>Skew:</th>           <td> 0.479</td>   <th>  Prob(JB):          </th>  <td>    0.00</td> \n",
       "</tr>\n",
       "<tr>\n",
       "  <th>Kurtosis:</th>       <td> 7.044</td>   <th>  Cond. No.          </th>  <td>1.14e+16</td> \n",
       "</tr>\n",
       "</table><br/><br/>Notes:<br/>[1] Standard Errors assume that the covariance matrix of the errors is correctly specified.<br/>[2] The smallest eigenvalue is 2.12e-16. This might indicate that there are<br/>strong multicollinearity problems or that the design matrix is singular."
      ],
      "text/plain": [
       "<class 'statsmodels.iolib.summary.Summary'>\n",
       "\"\"\"\n",
       "                            OLS Regression Results                            \n",
       "==============================================================================\n",
       "Dep. Variable:             Lossper_GD   R-squared:                       0.385\n",
       "Model:                            OLS   Adj. R-squared:                  0.384\n",
       "Method:                 Least Squares   F-statistic:                     8196.\n",
       "Date:                Fri, 01 Dec 2023   Prob (F-statistic):               0.00\n",
       "Time:                        00:02:16   Log-Likelihood:            -1.8081e+06\n",
       "No. Observations:              380480   AIC:                         3.616e+06\n",
       "Df Residuals:                  380450   BIC:                         3.617e+06\n",
       "Df Model:                          29                                         \n",
       "Covariance Type:            nonrobust                                         \n",
       "==================================================================================================\n",
       "                                     coef    std err          t      P>|t|      [0.025      0.975]\n",
       "--------------------------------------------------------------------------------------------------\n",
       "const                          -2149.0721     86.529    -24.836      0.000   -2318.666   -1979.478\n",
       "ORIG_RATE                         10.6071      0.104    102.146      0.000      10.404      10.811\n",
       "ORIG_TERM                         -0.0463      0.001    -40.487      0.000      -0.049      -0.044\n",
       "ORIG_UPB                          -0.0002   3.66e-06    -60.850      0.000      -0.000      -0.000\n",
       "LAST_UPB                           0.0001   3.79e-06     26.404      0.000    9.26e-05       0.000\n",
       "OLTV                              -0.2754      0.012    -22.089      0.000      -0.300      -0.251\n",
       "CSCORE_B                           0.0074      0.001      8.645      0.000       0.006       0.009\n",
       "ORIG_DATE_m                       -0.1846      0.014    -13.249      0.000      -0.212      -0.157\n",
       "ORIG_DATE_y                       -1.0988      0.037    -29.665      0.000      -1.171      -1.026\n",
       "UNEmpRate                          1.1513      0.018     64.489      0.000       1.116       1.186\n",
       "time_to_foreclose                  0.0040      0.000     15.765      0.000       0.004       0.005\n",
       "PURPOSE_P                        -10.3220      0.121    -85.153      0.000     -10.560     -10.084\n",
       "PURPOSE_R                         -2.0091      0.120    -16.679      0.000      -2.245      -1.773\n",
       "method_fore_Judicial               0.8978      0.748      1.200      0.230      -0.568       2.364\n",
       "OCLTV                              0.1691      0.011     15.354      0.000       0.147       0.191\n",
       "Disp_HPI                          -0.0903      0.001    -61.234      0.000      -0.093      -0.087\n",
       "FHA_Mean                           4.2247      0.095     44.289      0.000       4.038       4.412\n",
       "Orig_HPI                           0.0930      0.001     72.744      0.000       0.091       0.096\n",
       "UNEmpRate                          1.1513      0.018     64.489      0.000       1.116       1.186\n",
       "MTM_LTV                            0.1592      0.005     29.356      0.000       0.149       0.170\n",
       "method_fore_Power-of-Sale         -2.7553      0.759     -3.631      0.000      -4.242      -1.268\n",
       "method_fore_Strict Foreclosure    -0.0637      0.865     -0.074      0.941      -1.758       1.631\n",
       "LAST_PAID_INSTALLMENT_DATE_m      -0.6674      0.014    -47.944      0.000      -0.695      -0.640\n",
       "LAST_PAID_INSTALLMENT_DATE_y      -7.9497      0.043   -185.955      0.000      -8.033      -7.866\n",
       "FORECLOSURE_DATE_m                -0.3566      0.017    -20.511      0.000      -0.391      -0.323\n",
       "FORECLOSURE_DATE_y                -3.9199      0.123    -31.789      0.000      -4.162      -3.678\n",
       "DISPOSITION_DATE_m                 1.1003      0.017     65.606      0.000       1.067       1.133\n",
       "DISPOSITION_DATE_y                14.0043      0.113    124.469      0.000      13.784      14.225\n",
       "Zero_Bal_Code_3.0                 11.6938      0.208     56.269      0.000      11.286      12.101\n",
       "Zero_Bal_Code_9.0                 15.3753      0.197     77.936      0.000      14.989      15.762\n",
       "Zero_Bal_Code_15.0                14.1032      0.272     51.873      0.000      13.570      14.636\n",
       "==============================================================================\n",
       "Omnibus:                    48175.080   Durbin-Watson:                   1.995\n",
       "Prob(Omnibus):                  0.000   Jarque-Bera (JB):           273782.245\n",
       "Skew:                           0.479   Prob(JB):                         0.00\n",
       "Kurtosis:                       7.044   Cond. No.                     1.14e+16\n",
       "==============================================================================\n",
       "\n",
       "Notes:\n",
       "[1] Standard Errors assume that the covariance matrix of the errors is correctly specified.\n",
       "[2] The smallest eigenvalue is 2.12e-16. This might indicate that there are\n",
       "strong multicollinearity problems or that the design matrix is singular.\n",
       "\"\"\""
      ]
     },
     "execution_count": 135,
     "metadata": {},
     "output_type": "execute_result"
    }
   ],
   "source": [
    "#publish these\n",
    "results.summary()"
   ]
  },
  {
   "cell_type": "code",
   "execution_count": 136,
   "id": "d9e50008",
   "metadata": {},
   "outputs": [
    {
     "data": {
      "text/html": [
       "<style>#sk-container-id-2 {color: black;background-color: white;}#sk-container-id-2 pre{padding: 0;}#sk-container-id-2 div.sk-toggleable {background-color: white;}#sk-container-id-2 label.sk-toggleable__label {cursor: pointer;display: block;width: 100%;margin-bottom: 0;padding: 0.3em;box-sizing: border-box;text-align: center;}#sk-container-id-2 label.sk-toggleable__label-arrow:before {content: \"▸\";float: left;margin-right: 0.25em;color: #696969;}#sk-container-id-2 label.sk-toggleable__label-arrow:hover:before {color: black;}#sk-container-id-2 div.sk-estimator:hover label.sk-toggleable__label-arrow:before {color: black;}#sk-container-id-2 div.sk-toggleable__content {max-height: 0;max-width: 0;overflow: hidden;text-align: left;background-color: #f0f8ff;}#sk-container-id-2 div.sk-toggleable__content pre {margin: 0.2em;color: black;border-radius: 0.25em;background-color: #f0f8ff;}#sk-container-id-2 input.sk-toggleable__control:checked~div.sk-toggleable__content {max-height: 200px;max-width: 100%;overflow: auto;}#sk-container-id-2 input.sk-toggleable__control:checked~label.sk-toggleable__label-arrow:before {content: \"▾\";}#sk-container-id-2 div.sk-estimator input.sk-toggleable__control:checked~label.sk-toggleable__label {background-color: #d4ebff;}#sk-container-id-2 div.sk-label input.sk-toggleable__control:checked~label.sk-toggleable__label {background-color: #d4ebff;}#sk-container-id-2 input.sk-hidden--visually {border: 0;clip: rect(1px 1px 1px 1px);clip: rect(1px, 1px, 1px, 1px);height: 1px;margin: -1px;overflow: hidden;padding: 0;position: absolute;width: 1px;}#sk-container-id-2 div.sk-estimator {font-family: monospace;background-color: #f0f8ff;border: 1px dotted black;border-radius: 0.25em;box-sizing: border-box;margin-bottom: 0.5em;}#sk-container-id-2 div.sk-estimator:hover {background-color: #d4ebff;}#sk-container-id-2 div.sk-parallel-item::after {content: \"\";width: 100%;border-bottom: 1px solid gray;flex-grow: 1;}#sk-container-id-2 div.sk-label:hover label.sk-toggleable__label {background-color: #d4ebff;}#sk-container-id-2 div.sk-serial::before {content: \"\";position: absolute;border-left: 1px solid gray;box-sizing: border-box;top: 0;bottom: 0;left: 50%;z-index: 0;}#sk-container-id-2 div.sk-serial {display: flex;flex-direction: column;align-items: center;background-color: white;padding-right: 0.2em;padding-left: 0.2em;position: relative;}#sk-container-id-2 div.sk-item {position: relative;z-index: 1;}#sk-container-id-2 div.sk-parallel {display: flex;align-items: stretch;justify-content: center;background-color: white;position: relative;}#sk-container-id-2 div.sk-item::before, #sk-container-id-2 div.sk-parallel-item::before {content: \"\";position: absolute;border-left: 1px solid gray;box-sizing: border-box;top: 0;bottom: 0;left: 50%;z-index: -1;}#sk-container-id-2 div.sk-parallel-item {display: flex;flex-direction: column;z-index: 1;position: relative;background-color: white;}#sk-container-id-2 div.sk-parallel-item:first-child::after {align-self: flex-end;width: 50%;}#sk-container-id-2 div.sk-parallel-item:last-child::after {align-self: flex-start;width: 50%;}#sk-container-id-2 div.sk-parallel-item:only-child::after {width: 0;}#sk-container-id-2 div.sk-dashed-wrapped {border: 1px dashed gray;margin: 0 0.4em 0.5em 0.4em;box-sizing: border-box;padding-bottom: 0.4em;background-color: white;}#sk-container-id-2 div.sk-label label {font-family: monospace;font-weight: bold;display: inline-block;line-height: 1.2em;}#sk-container-id-2 div.sk-label-container {text-align: center;}#sk-container-id-2 div.sk-container {/* jupyter's `normalize.less` sets `[hidden] { display: none; }` but bootstrap.min.css set `[hidden] { display: none !important; }` so we also need the `!important` here to be able to override the default hidden behavior on the sphinx rendered scikit-learn.org. See: https://github.com/scikit-learn/scikit-learn/issues/21755 */display: inline-block !important;position: relative;}#sk-container-id-2 div.sk-text-repr-fallback {display: none;}</style><div id=\"sk-container-id-2\" class=\"sk-top-container\"><div class=\"sk-text-repr-fallback\"><pre>LinearRegression()</pre><b>In a Jupyter environment, please rerun this cell to show the HTML representation or trust the notebook. <br />On GitHub, the HTML representation is unable to render, please try loading this page with nbviewer.org.</b></div><div class=\"sk-container\" hidden><div class=\"sk-item\"><div class=\"sk-estimator sk-toggleable\"><input class=\"sk-toggleable__control sk-hidden--visually\" id=\"sk-estimator-id-2\" type=\"checkbox\" checked><label for=\"sk-estimator-id-2\" class=\"sk-toggleable__label sk-toggleable__label-arrow\">LinearRegression</label><div class=\"sk-toggleable__content\"><pre>LinearRegression()</pre></div></div></div></div></div>"
      ],
      "text/plain": [
       "LinearRegression()"
      ]
     },
     "execution_count": 136,
     "metadata": {},
     "output_type": "execute_result"
    }
   ],
   "source": [
    "# Sklearn learning and predictions on evaluation set\n",
    "OLreg = LinearRegression()\n",
    "OLreg.fit(X_train, Y_train)"
   ]
  },
  {
   "cell_type": "code",
   "execution_count": 137,
   "id": "b908f1f3",
   "metadata": {},
   "outputs": [
    {
     "name": "stdout",
     "output_type": "stream",
     "text": [
      "R^2 : 0.38577653965644143\n",
      "AIC 632884.5315295832\n"
     ]
    }
   ],
   "source": [
    "Y_pred = OLreg.predict(X_eval)\n",
    "print(\"R^2 :\", r2_score(Y_eval, Y_pred))\n",
    "mse = mean_squared_error(Y_eval, Y_pred)\n",
    "print(\"AIC\", calculate_aic(Y_eval.shape[0], mse, len(predictors)))"
   ]
  },
  {
   "cell_type": "code",
   "execution_count": 296,
   "id": "dbf984f7",
   "metadata": {},
   "outputs": [
    {
     "name": "stderr",
     "output_type": "stream",
     "text": [
      "C:\\ProgramData\\Anaconda3\\lib\\site-packages\\pyearth\\earth.py:802: FutureWarning: `rcond` parameter will change to the default of machine precision times ``max(M, N)`` where M and N are the input matrix dimensions.\n",
      "To use the future default and silence this warning we advise to pass `rcond=None`, to keep using the old, explicitly pass `rcond=-1`.\n",
      "  pruning_passer.run()\n"
     ]
    },
    {
     "ename": "KeyboardInterrupt",
     "evalue": "",
     "output_type": "error",
     "traceback": [
      "\u001b[1;31m---------------------------------------------------------------------------\u001b[0m",
      "\u001b[1;31mKeyboardInterrupt\u001b[0m                         Traceback (most recent call last)",
      "\u001b[1;32m~\\AppData\\Local\\Temp\\ipykernel_32496\\1186515177.py\u001b[0m in \u001b[0;36m<module>\u001b[1;34m\u001b[0m\n\u001b[0;32m      1\u001b[0m \u001b[1;31m# Sklearn Pyearth learning and predictions\u001b[0m\u001b[1;33m\u001b[0m\u001b[1;33m\u001b[0m\u001b[0m\n\u001b[0;32m      2\u001b[0m \u001b[0mOLsplines\u001b[0m \u001b[1;33m=\u001b[0m \u001b[0mEarth\u001b[0m\u001b[1;33m(\u001b[0m\u001b[0mmax_terms\u001b[0m \u001b[1;33m=\u001b[0m \u001b[1;36m90\u001b[0m\u001b[1;33m)\u001b[0m\u001b[1;33m\u001b[0m\u001b[1;33m\u001b[0m\u001b[0m\n\u001b[1;32m----> 3\u001b[1;33m \u001b[0mOLsplines\u001b[0m\u001b[1;33m.\u001b[0m\u001b[0mfit\u001b[0m\u001b[1;33m(\u001b[0m\u001b[0mX_train\u001b[0m\u001b[1;33m,\u001b[0m \u001b[0mY_train\u001b[0m\u001b[1;33m)\u001b[0m\u001b[1;33m\u001b[0m\u001b[1;33m\u001b[0m\u001b[0m\n\u001b[0m",
      "\u001b[1;32mC:\\ProgramData\\Anaconda3\\lib\\site-packages\\pyearth\\earth.py\u001b[0m in \u001b[0;36mfit\u001b[1;34m(self, X, y, sample_weight, output_weight, missing, xlabels, linvars)\u001b[0m\n\u001b[0;32m    616\u001b[0m                           self.xlabels_, linvars, skip_scrub=True)\n\u001b[0;32m    617\u001b[0m         \u001b[1;32mif\u001b[0m \u001b[0mself\u001b[0m\u001b[1;33m.\u001b[0m\u001b[0menable_pruning\u001b[0m \u001b[1;32mis\u001b[0m \u001b[1;32mTrue\u001b[0m\u001b[1;33m:\u001b[0m\u001b[1;33m\u001b[0m\u001b[1;33m\u001b[0m\u001b[0m\n\u001b[1;32m--> 618\u001b[1;33m             self.pruning_pass(X, y,\n\u001b[0m\u001b[0;32m    619\u001b[0m                               \u001b[0msample_weight\u001b[0m\u001b[1;33m,\u001b[0m \u001b[0moutput_weight\u001b[0m\u001b[1;33m,\u001b[0m \u001b[0mmissing\u001b[0m\u001b[1;33m,\u001b[0m\u001b[1;33m\u001b[0m\u001b[1;33m\u001b[0m\u001b[0m\n\u001b[0;32m    620\u001b[0m                               skip_scrub=True)\n",
      "\u001b[1;32mC:\\ProgramData\\Anaconda3\\lib\\site-packages\\pyearth\\earth.py\u001b[0m in \u001b[0;36mpruning_pass\u001b[1;34m(self, X, y, sample_weight, output_weight, missing, skip_scrub)\u001b[0m\n\u001b[0;32m    800\u001b[0m             \u001b[0mself\u001b[0m\u001b[1;33m.\u001b[0m\u001b[0mbasis_\u001b[0m\u001b[1;33m,\u001b[0m \u001b[0mX\u001b[0m\u001b[1;33m,\u001b[0m \u001b[0mmissing\u001b[0m\u001b[1;33m,\u001b[0m \u001b[0my\u001b[0m\u001b[1;33m,\u001b[0m \u001b[0msample_weight\u001b[0m\u001b[1;33m,\u001b[0m\u001b[1;33m\u001b[0m\u001b[1;33m\u001b[0m\u001b[0m\n\u001b[0;32m    801\u001b[0m             **args)\n\u001b[1;32m--> 802\u001b[1;33m         \u001b[0mpruning_passer\u001b[0m\u001b[1;33m.\u001b[0m\u001b[0mrun\u001b[0m\u001b[1;33m(\u001b[0m\u001b[1;33m)\u001b[0m\u001b[1;33m\u001b[0m\u001b[1;33m\u001b[0m\u001b[0m\n\u001b[0m\u001b[0;32m    803\u001b[0m \u001b[1;33m\u001b[0m\u001b[0m\n\u001b[0;32m    804\u001b[0m         \u001b[0mimp\u001b[0m \u001b[1;33m=\u001b[0m \u001b[0mpruning_passer\u001b[0m\u001b[1;33m.\u001b[0m\u001b[0mfeature_importance\u001b[0m\u001b[1;33m\u001b[0m\u001b[1;33m\u001b[0m\u001b[0m\n",
      "\u001b[1;32mC:\\ProgramData\\Anaconda3\\lib\\site-packages\\pyearth\\_pruning.pyx\u001b[0m in \u001b[0;36mpyearth._pruning.PruningPasser.run\u001b[1;34m()\u001b[0m\n",
      "\u001b[1;32mC:\\ProgramData\\Anaconda3\\lib\\site-packages\\pyearth\\_pruning.pyx\u001b[0m in \u001b[0;36mpyearth._pruning.PruningPasser.run\u001b[1;34m()\u001b[0m\n",
      "\u001b[1;32mC:\\ProgramData\\Anaconda3\\lib\\site-packages\\numpy\\core\\overrides.py\u001b[0m in \u001b[0;36mlstsq\u001b[1;34m(*args, **kwargs)\u001b[0m\n",
      "\u001b[1;31mKeyboardInterrupt\u001b[0m: "
     ]
    }
   ],
   "source": [
    "# Sklearn Pyearth learning and predictions \n",
    "OLsplines = Earth(max_terms = 200)\n",
    "OLsplines.fit(X_train, Y_train)"
   ]
  },
  {
   "cell_type": "code",
   "execution_count": 256,
   "id": "eaa0b292",
   "metadata": {},
   "outputs": [
    {
     "name": "stdout",
     "output_type": "stream",
     "text": [
      "Forward Pass\n",
      "-----------------------------------------------------------------------\n",
      "iter  parent  var  knot    mse          terms  gcv       rsq    grsq   \n",
      "-----------------------------------------------------------------------\n",
      "0     -       -    -       1337.967046  1      1337.974  0.000  0.000  \n",
      "1     0       27   -1      1250.098835  2      1250.122  0.066  0.066  \n",
      "2     0       0    225070  1185.239160  4      1185.292  0.114  0.114  \n",
      "3     0       18   -1      1142.519200  5      1142.585  0.146  0.146  \n",
      "4     0       17   378661  1109.305921  7      1109.399  0.171  0.171  \n",
      "5     0       2    131038  1058.432660  9      1058.549  0.209  0.209  \n",
      "6     0       3    -1      1008.229450  10     1008.354  0.246  0.246  \n",
      "7     0       25   -1      977.069053   11     977.203   0.270  0.270  \n",
      "8     0       21   -1      885.417235   12     885.550   0.338  0.338  \n",
      "9     0       9    -1      867.117608   13     867.259   0.352  0.352  \n",
      "10    0       17   303292  856.066482   15     856.228   0.360  0.360  \n",
      "11    0       1    -1      847.336909   16     847.508   0.367  0.367  \n",
      "12    0       24   -1      842.252260   17     842.434   0.370  0.370  \n",
      "13    0       20   -1      837.162134   18     837.354   0.374  0.374  \n",
      "14    0       7    -1      832.677693   19     832.879   0.378  0.378  \n",
      "15    0       14   -1      828.212898   20     828.424   0.381  0.381  \n",
      "16    0       6    -1      823.922028   21     824.143   0.384  0.384  \n",
      "17    0       17   330710  821.000708   23     821.242   0.386  0.386  \n",
      "18    0       26   -1      818.815175   24     819.067   0.388  0.388  \n",
      "19    0       28   -1      815.041777   25     815.303   0.391  0.391  \n",
      "20    0       15   -1      813.050657   26     813.322   0.392  0.392  \n",
      "21    0       13   356080  810.167773   28     810.460   0.394  0.394  \n",
      "22    0       23   -1      809.209383   29     809.511   0.395  0.395  \n",
      "-----------------------------------------------------------------------\n",
      "Stopping Condition 2: Improvement below threshold\n",
      "\n",
      "Pruning Pass\n",
      "----------------------------------------------------\n",
      "iter  bf  terms  mse      gcv       rsq     grsq    \n",
      "----------------------------------------------------\n",
      "0     -   29     809.21   809.511   0.395   0.395   \n",
      "1     13  28     809.21   809.501   0.395   0.395   \n",
      "2     2   27     809.19   809.469   0.395   0.395   \n",
      "3     6   26     809.21   809.480   0.395   0.395   \n",
      "4     26  25     809.27   809.525   0.395   0.395   \n",
      "5     7   24     809.33   809.580   0.395   0.395   \n",
      "6     28  23     810.29   810.527   0.394   0.394   \n",
      "7     27  22     813.11   813.338   0.392   0.392   \n",
      "8     25  21     815.10   815.317   0.391   0.391   \n",
      "9     22  20     818.15   818.363   0.389   0.388   \n",
      "10    4   19     821.66   821.857   0.386   0.386   \n",
      "11    20  18     825.90   826.093   0.383   0.383   \n",
      "12    19  17     829.93   830.108   0.380   0.380   \n",
      "13    18  16     833.91   834.077   0.377   0.377   \n",
      "14    24  15     838.27   838.426   0.373   0.373   \n",
      "15    23  14     841.01   841.153   0.371   0.371   \n",
      "16    17  13     846.73   846.868   0.367   0.367   \n",
      "17    16  12     852.62   852.743   0.363   0.363   \n",
      "18    15  11     861.77   861.885   0.356   0.356   \n",
      "19    1   10     872.61   872.721   0.348   0.348   \n",
      "20    14  9      887.25   887.344   0.337   0.337   \n",
      "21    12  8      906.37   906.456   0.323   0.323   \n",
      "22    3   7      930.01   930.084   0.305   0.305   \n",
      "23    21  6      961.44   961.509   0.281   0.281   \n",
      "24    9   5      1005.77  1005.833  0.248   0.248   \n",
      "25    5   4      1092.04  1092.090  0.184   0.184   \n",
      "26    8   3      1167.51  1167.549  0.127   0.127   \n",
      "27    11  2      1323.95  1323.973  0.010   0.010   \n",
      "28    10  1      1337.97  1337.974  -0.000  -0.000  \n",
      "----------------------------------------------------\n",
      "Selected iteration: 2\n",
      "\n",
      "Earth Model\n",
      "----------------------------------------------------\n",
      "Basis Function                Pruned  Coefficient   \n",
      "----------------------------------------------------\n",
      "(Intercept)                   No      2.2267e+08    \n",
      "Zero_Bal_Code_9.0             No      13.8429       \n",
      "h(ORIG_RATE-9)                Yes     None          \n",
      "h(9-ORIG_RATE)                No      -10.4542      \n",
      "method_fore_Power-of-Sale     No      -4.60006      \n",
      "h(MTM_LTV-6.3475)             No      3.65126e+07   \n",
      "h(6.3475-MTM_LTV)             No      -3.65126e+07  \n",
      "h(ORIG_UPB-720000)            No      0.00135389    \n",
      "h(720000-ORIG_UPB)            No      0.000127958   \n",
      "OLTV                          No      -0.402404     \n",
      "DISPOSITION_DATE_y            No      12.6594       \n",
      "LAST_PAID_INSTALLMENT_DATE_y  No      -8.14496      \n",
      "PURPOSE_P                     No      -8.79361      \n",
      "h(MTM_LTV-82.2288)            Yes     None          \n",
      "h(82.2288-MTM_LTV)            No      -0.507861     \n",
      "ORIG_TERM                     No      -0.0652688    \n",
      "DISPOSITION_DATE_m            No      0.934707      \n",
      "LAST_PAID_INSTALLMENT_DATE_m  No      -0.684844     \n",
      "UNEmpRate                     No      2.21489       \n",
      "FHA_Mean                      No      4.56939       \n",
      "ORIG_DATE_y                   No      -1.54618      \n",
      "h(MTM_LTV-0.24902)            No      -3.65126e+07  \n",
      "h(0.24902-MTM_LTV)            No      3.65144e+07   \n",
      "Zero_Bal_Code_3.0             No      9.70711       \n",
      "Zero_Bal_Code_15.0            No      12.9482       \n",
      "Orig_HPI                      No      0.0585122     \n",
      "h(Disp_HPI-1114.11)           No      -1.6718       \n",
      "h(1114.11-Disp_HPI)           No      0.0494463     \n",
      "FORECLOSURE_DATE_y            No      -2.10902      \n",
      "----------------------------------------------------\n",
      "MSE: 809.1887, GCV: 809.4695, RSQ: 0.3952, GRSQ: 0.3950\n"
     ]
    }
   ],
   "source": [
    "#Print the model\n",
    "print(OLsplines.trace())\n",
    "print(OLsplines.summary())"
   ]
  },
  {
   "cell_type": "code",
   "execution_count": 262,
   "id": "515a72e5",
   "metadata": {
    "scrolled": true
   },
   "outputs": [
    {
     "name": "stdout",
     "output_type": "stream",
     "text": [
      "R^2 : 0.3947232083807727\n"
     ]
    }
   ],
   "source": [
    "Y_pred = OLsplines.predict(X_eval)\n",
    "print(\"R^2 :\", r2_score(Y_eval, Y_pred))"
   ]
  },
  {
   "cell_type": "code",
   "execution_count": null,
   "id": "7e6bfc66",
   "metadata": {},
   "outputs": [],
   "source": []
  }
 ],
 "metadata": {
  "kernelspec": {
   "display_name": "Python 3 (ipykernel)",
   "language": "python",
   "name": "python3"
  },
  "language_info": {
   "codemirror_mode": {
    "name": "ipython",
    "version": 3
   },
   "file_extension": ".py",
   "mimetype": "text/x-python",
   "name": "python",
   "nbconvert_exporter": "python",
   "pygments_lexer": "ipython3",
   "version": "3.9.12"
  }
 },
 "nbformat": 4,
 "nbformat_minor": 5
}
