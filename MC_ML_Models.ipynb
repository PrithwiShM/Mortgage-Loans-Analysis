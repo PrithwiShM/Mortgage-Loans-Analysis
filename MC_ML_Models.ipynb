{
 "cells": [
  {
   "cell_type": "code",
   "execution_count": 1,
   "id": "1e62049e",
   "metadata": {},
   "outputs": [
    {
     "name": "stderr",
     "output_type": "stream",
     "text": [
      "C:\\Users\\prith\\anaconda3\\Lib\\site-packages\\pandas\\core\\arrays\\masked.py:60: UserWarning: Pandas requires version '1.3.6' or newer of 'bottleneck' (version '1.3.5' currently installed).\n",
      "  from pandas.core import (\n"
     ]
    }
   ],
   "source": [
    "import pandas as pd\n",
    "import numpy as np\n",
    "import statsmodels.api as sm\n",
    "\n",
    "import seaborn as sns                       #visualisation\n",
    "import matplotlib.pyplot as plt             #visualisation\n",
    "\n",
    "\n",
    "%matplotlib inline"
   ]
  },
  {
   "cell_type": "markdown",
   "id": "0c75c17e",
   "metadata": {},
   "source": [
    "# 1. Loading data and filtering Defaulted loans"
   ]
  },
  {
   "cell_type": "code",
   "execution_count": 14,
   "id": "5b3d274f",
   "metadata": {
    "scrolled": true
   },
   "outputs": [
    {
     "name": "stdout",
     "output_type": "stream",
     "text": [
      "2004Q1 (452471, 70)\n",
      "2004Q2 (614487, 70)\n",
      "2004Q3 (389487, 70)\n",
      "2004Q4 (361659, 70)\n",
      "2005Q1 (303611, 70)\n",
      "2005Q2 (339372, 70)\n",
      "2005Q3 (440521, 70)\n",
      "2005Q4 (378311, 70)\n",
      "2006Q1 (253043, 70)\n",
      "2006Q2 (291165, 70)\n",
      "2006Q3 (271373, 70)\n",
      "2006Q4 (280979, 70)\n"
     ]
    }
   ],
   "source": [
    "appended_data = []\n",
    "#change here to switch between before crisis and after crisis\n",
    "years = list(map(str, range(2004, 2007)))\n",
    "quarters = [ 'Q1', 'Q2', 'Q3', 'Q4']\n",
    "for year in years: \n",
    "    for quarter in quarters:\n",
    "        data2 = pd.read_csv(\"preprocessed_data/\"+ year + quarter +\"_stat.csv\")\n",
    "        print(year + quarter, data2.shape)\n",
    "        appended_data.append(data2)\n",
    "        \n",
    "df = pd.concat(appended_data)\n",
    "    \n",
    "# Some basic formating  \n",
    "df.reset_index(inplace = True)\n",
    "df.drop('index', axis=1, inplace=True)"
   ]
  },
  {
   "cell_type": "code",
   "execution_count": 58,
   "id": "125b2044",
   "metadata": {
    "scrolled": true
   },
   "outputs": [
    {
     "name": "stdout",
     "output_type": "stream",
     "text": [
      "prop_ins_ind    223967\n",
      "DEAL_NAME       223967\n",
      "mod_ind         219568\n",
      "MODFG_COST      219171\n",
      "dtype: int64\n"
     ]
    }
   ],
   "source": [
    "# collecting all the defaulted loans\n",
    "data = df[df['COMPLT_FLG'].notnull()].copy(deep=True)\n",
    "\n",
    "# Removing all columns which contain more than 90% null values\n",
    "null_count = data.isnull().sum()\n",
    "null_columns = null_count[null_count > data.shape[0]*(0.9)]\n",
    "print(null_columns)"
   ]
  },
  {
   "cell_type": "code",
   "execution_count": 59,
   "id": "79368671",
   "metadata": {},
   "outputs": [],
   "source": [
    "# format the zb_date column\n",
    "data[\"zb_date\"] = data[\"zb_date\"].astype(\"Int64\").astype(str)\n",
    "data[\"zb_date\"] = data['zb_date'].str[:4] + '-' + data['zb_date'].str[4:6] + '-' + '01'"
   ]
  },
  {
   "cell_type": "code",
   "execution_count": 62,
   "id": "2dc95187-176b-4d85-8249-49b3e3d8edf7",
   "metadata": {},
   "outputs": [],
   "source": [
    "data[\"zb_date\"] = pd.to_datetime(data[\"zb_date\"], errors='coerce')\n",
    "data[\"zb_date\"] = data[\"zb_date\"].dt.to_period(\"M\").dt.to_timestamp(\"M\")"
   ]
  },
  {
   "cell_type": "markdown",
   "id": "21d467ea",
   "metadata": {},
   "source": [
    "# 2. Integrate the macroeconomic & state wise variables"
   ]
  },
  {
   "cell_type": "code",
   "execution_count": 65,
   "id": "91a305d2",
   "metadata": {},
   "outputs": [],
   "source": [
    "McData = pd.read_csv(\"./Macro-Economic_Data/aggergate_macroeconomic.csv\")\n",
    "McData = McData.rename(columns = {'Unnamed: 0': 'Date'} )\n",
    "McData[\"Date\"] = pd.to_datetime(McData[\"Date\"], errors='coerce')\n",
    "\n",
    "data = data.merge(\n",
    "    McData,\n",
    "    how='left',\n",
    "    left_on=['state', 'zb_date'],\n",
    "    right_on=['state', 'Date'],\n",
    "    validate='many_to_one',      # optional sanity check\n",
    "    suffixes=('', '_r')          # optional suffix for overlaps\n",
    ")\n"
   ]
  },
  {
   "cell_type": "code",
   "execution_count": 70,
   "id": "02d74730",
   "metadata": {},
   "outputs": [],
   "source": [
    "from Macro_Economic_Data.state_foreclosure import method_of_foreclosure_and_time\n",
    "\n",
    "method_of_foreclosure_and_time = pd.DataFrame(method_of_foreclosure_and_time, columns=['state', 'method_of_foreclosurer', 'time_to_foreclose'])\n",
    "\n",
    "data = data.merge(method_of_foreclosure_and_time, on = 'state', how='left')"
   ]
  },
  {
   "cell_type": "code",
   "execution_count": 5,
   "id": "dcf1a9d7",
   "metadata": {},
   "outputs": [
    {
     "name": "stdout",
     "output_type": "stream",
     "text": [
      "ORIG_DATE\n",
      "FIRST_PAY\n",
      "AQSN_DTE\n",
      "LPI_DTE\n",
      "FCC_DTE\n",
      "DISP_DTE\n",
      "F6_DTE\n",
      "F3_DTE\n",
      "F4_DTE\n",
      "F1_DTE\n",
      "F2_DTE\n",
      "FCE_DTE\n",
      "FMOD_DTE\n",
      "zb_date\n",
      "LAST_DTE\n"
     ]
    }
   ],
   "source": [
    "date_cols = ['ORIG_DATE', 'FIRST_PAY', 'AQSN_DTE', 'LPI_DTE', 'FCC_DTE', 'DISP_DTE', 'F6_DTE', 'F3_DTE',\n",
    "       'F4_DTE', 'F1_DTE', 'F2_DTE', 'FCE_DTE', 'FMOD_DTE', 'zb_date',\n",
    "       'LAST_DTE']\n",
    "for date_col in date_cols:\n",
    "    print(date_col)\n",
    "    data[date_col] = pd.to_datetime(data[date_col], errors=\"coerce\")\n",
    "    data[f\"{date_col}_year\"] = data[date_col].dt.year\n",
    "    data[f\"{date_col}_month\"] = data[date_col].dt.month\n",
    "\n",
    "data.drop(date_cols, axis= 1, inplace=True)"
   ]
  },
  {
   "cell_type": "code",
   "execution_count": 6,
   "id": "54ce770e",
   "metadata": {},
   "outputs": [
    {
     "data": {
      "text/plain": [
       "count    223967.000000\n",
       "mean     157195.987117\n",
       "std       85633.413390\n",
       "min           0.010000\n",
       "25%       90341.315000\n",
       "50%      143486.990000\n",
       "75%      210545.445000\n",
       "max      763150.730000\n",
       "Name: LAST_UPB, dtype: float64"
      ]
     },
     "execution_count": 6,
     "metadata": {},
     "output_type": "execute_result"
    }
   ],
   "source": [
    "#Visualising last unpaid balance column\n",
    "data['LAST_UPB'].describe()"
   ]
  },
  {
   "cell_type": "code",
   "execution_count": 7,
   "id": "3c468201",
   "metadata": {},
   "outputs": [],
   "source": [
    "#Calculating 'Loss Given Default' \n",
    "data['LossGivenDef'] = (data['NET_LOSS']/data['FCE_UPB'])*100\n",
    "\n",
    "#calculating Loan age\n",
    "data['Disp_age'] = data['DISP_DTE_year'] + data['DISP_DTE_month']/12 - (data['ORIG_DATE_year'] + data['ORIG_DATE_month']/12 )\n",
    "\n",
    "data.drop(['NET_LOSS', 'DISP_DTE_year', 'DISP_DTE_month'], axis = 1, inplace = True)"
   ]
  },
  {
   "cell_type": "code",
   "execution_count": 116,
   "id": "439e0bf2",
   "metadata": {},
   "outputs": [],
   "source": [
    "data = data.merge(FHA30yr_data, on = 'ZB_DTE', how='left')\n",
    "\n",
    "Unemployment_data = Unemployment_data.rename({'DATE': 'ZB_DTE'}, axis = 1)\n",
    "data = data.merge(Unemployment_data, on = 'ZB_DTE', how='left')\n",
    "\n",
    "data = data.merge(State_HPI, on = ['ORIG_DATE', 'STATE'], how='left')\n",
    "data = data.merge(State_HPI2, on = ['DISPOSITION_DATE', 'STATE'], how='left')\n"
   ]
  },
  {
   "cell_type": "code",
   "execution_count": 117,
   "id": "17665aab",
   "metadata": {},
   "outputs": [],
   "source": [
    "data['MTM_LTV'] = data['LAST_UPB']/(data['ORIG_UPB']/data['OLTV']/data['Orig_HPI']*data['Disp_HPI'])\n"
   ]
  },
  {
   "cell_type": "code",
   "execution_count": 138,
   "id": "9152b3d3",
   "metadata": {},
   "outputs": [
    {
     "data": {
      "text/plain": [
       "0         46.585631\n",
       "1         57.555854\n",
       "2         84.417459\n",
       "3         62.443259\n",
       "4         46.494219\n",
       "            ...    \n",
       "502615    92.150509\n",
       "502616    87.742573\n",
       "502617    71.963301\n",
       "502618    98.159220\n",
       "502619    70.150645\n",
       "Name: MTM_LTV, Length: 502620, dtype: float64"
      ]
     },
     "execution_count": 138,
     "metadata": {},
     "output_type": "execute_result"
    }
   ],
   "source": [
    "data['MTM_LTV']"
   ]
  },
  {
   "cell_type": "code",
   "execution_count": 118,
   "id": "abcbbdea",
   "metadata": {},
   "outputs": [],
   "source": [
    "#calculating Loann age\n",
    "data['Loan_age'] = data['DISPOSITION_DATE_y'] + data['DISPOSITION_DATE_m']/12 - (data['ORIG_DATE_y'] + data['ORIG_DATE_m']/12 )"
   ]
  },
  {
   "cell_type": "code",
   "execution_count": 120,
   "id": "523d68c0",
   "metadata": {},
   "outputs": [],
   "source": [
    "#removing the unrequired date  columns here\n",
    "data.drop(date_cols, axis= 1, inplace=True)"
   ]
  },
  {
   "cell_type": "code",
   "execution_count": 121,
   "id": "358b31e3",
   "metadata": {},
   "outputs": [],
   "source": [
    "# Comment the first line after running this, Uncomment the second line for regaining checkpoint\n",
    "data_check = data.copy(deep=True)\n",
    "#data = data_check.copy()"
   ]
  },
  {
   "cell_type": "markdown",
   "id": "f3a3f4ef",
   "metadata": {},
   "source": [
    "# 3. Final data formatting and selection of columns as predictors"
   ]
  },
  {
   "cell_type": "code",
   "execution_count": 122,
   "id": "aed9f677",
   "metadata": {},
   "outputs": [],
   "source": [
    "# one hot encoding of categorical variables\n",
    "data.rename({'HIGH_BALANCE_LOAN_INDICATOR': 'HIGH_BAl',\n",
    "             'method_of_foreclosurer' : 'method_fore',\n",
    "             'FORECLOSURE_PRINCIPAL_WRITE_OFF_AMOUNT': 'principal_writeoff'\n",
    "            }, axis=1, inplace=True)"
   ]
  },
  {
   "cell_type": "code",
   "execution_count": 123,
   "id": "172dd722",
   "metadata": {},
   "outputs": [],
   "source": [
    "data = pd.get_dummies(data, columns=['PURPOSE', 'HIGH_BAl', 'method_fore', 'Zero_Bal_Code'], drop_first=True)"
   ]
  },
  {
   "cell_type": "code",
   "execution_count": 124,
   "id": "e7e70beb",
   "metadata": {
    "scrolled": true
   },
   "outputs": [],
   "source": [
    "# ID is a non-predictor column, SELLER is too-much varialble right now\n",
    "# State column has been used by macroeconomic variable- method_of_foreclosurer\n",
    "unwanted_cols = set(loss_calculation_cols + ['LOAN_ID', 'SELLER', 'STATE']) - set(['LAST_UPB'])\n",
    "\n",
    "#new variable for data declared\n",
    "wdata = data.drop(unwanted_cols, axis = 1)"
   ]
  },
  {
   "cell_type": "code",
   "execution_count": 125,
   "id": "287a4b4f",
   "metadata": {},
   "outputs": [
    {
     "name": "stdout",
     "output_type": "stream",
     "text": [
      "CURR_RATE                          492712\n",
      "CSCORE_C                           336562\n",
      "MI_PCT                             350215\n",
      "IO                                  80323\n",
      "REPURCHASES_MAKE_WHOLE_PROCEEDS    188860\n",
      "MI_TYPE                            350215\n",
      "dtype: int64\n"
     ]
    }
   ],
   "source": [
    "# max amount of data we can loose = 10%\n",
    "max_loose = 0.1\n",
    "\n",
    "nulls_final = wdata.isnull().sum(axis = 0)\n",
    "tobe_removed = nulls_final[nulls_final > data.shape[0]*max_loose]\n",
    "print(tobe_removed)\n",
    "wdata.drop(list(tobe_removed.index), axis=1, inplace=True)"
   ]
  },
  {
   "cell_type": "code",
   "execution_count": 126,
   "id": "ef23058f",
   "metadata": {},
   "outputs": [
    {
     "data": {
      "text/plain": [
       "<AxesSubplot:>"
      ]
     },
     "execution_count": 126,
     "metadata": {},
     "output_type": "execute_result"
    },
    {
     "data": {
      "image/png": "[encoded data removed]",
      "text/plain": [
       "<Figure size 640x480 with 1 Axes>"
      ]
     },
     "metadata": {},
     "output_type": "display_data"
    }
   ],
   "source": [
    "wdata['Lossper_GD'] = (wdata['LOSS']/wdata['LAST_UPB'])*100\n",
    "wdata[(wdata['Lossper_GD']>-500) & (wdata['Lossper_GD']<1000)]['Lossper_GD'].hist(bins=200)"
   ]
  },
  {
   "cell_type": "code",
   "execution_count": 127,
   "id": "42517f84",
   "metadata": {
    "scrolled": true
   },
   "outputs": [],
   "source": [
    "#wdata.to_csv('../CleanData.csv')"
   ]
  },
  {
   "cell_type": "markdown",
   "id": "3746fe8c",
   "metadata": {},
   "source": [
    "# OLS"
   ]
  },
  {
   "cell_type": "code",
   "execution_count": 128,
   "id": "30001ea1",
   "metadata": {},
   "outputs": [],
   "source": [
    "from math import log\n",
    "from sklearn.model_selection import train_test_split, cross_val_score, RepeatedKFold\n",
    "from sklearn.linear_model import LinearRegression\n",
    "from sklearn.metrics import r2_score, mean_squared_error\n",
    "from sklearn.preprocessing import StandardScaler\n",
    "import random\n",
    "\n",
    "random.seed(10)\n",
    "from pyearth import Earth"
   ]
  },
  {
   "cell_type": "code",
   "execution_count": null,
   "id": "6596aaed",
   "metadata": {},
   "outputs": [
    {
     "name": "stderr",
     "output_type": "stream",
     "text": [
      "C:\\Users\\prith\\AppData\\Local\\Temp\\ipykernel_23824\\4233065074.py:2: FutureWarning: In a future version of pandas all arguments of DataFrame.dropna will be keyword-only.\n",
      "  wdata.dropna(0, inplace=True)\n"
     ]
    },
    {
     "name": "stdout",
     "output_type": "stream",
     "text": [
      "(475757, 57)\n"
     ]
    }
   ],
   "source": [
    "# important before starting regression\n",
    "wdata = wdata.dropna(axis = 0)\n",
    "print(wdata.shape)"
   ]
  },
  {
   "cell_type": "code",
   "execution_count": 130,
   "id": "bc4403b7",
   "metadata": {},
   "outputs": [
    {
     "data": {
      "text/plain": [
       "Index(['ACT_PERIOD', 'CHANNEL', 'ORIG_RATE', 'ORIG_UPB', 'CURRENT_UPB',\n",
       "       'ORIG_TERM', 'OLTV', 'OCLTV', 'NUM_BO', 'DTI', 'CSCORE_B', 'FIRST_FLAG',\n",
       "       'PROP', 'NO_UNITS', 'OCC_STAT', 'MSA', 'ZIP', 'PRODUCT', 'PPMT_FLG',\n",
       "       'DLQ_STATUS', 'LAST_UPB', 'NON_INTEREST_BEARING_UPB',\n",
       "       'HOMEREADY_PROGRAM_INDICATOR', 'RELOCATION_MORTGAGE_INDICATOR',\n",
       "       'HIGH_LOAN_TO_VALUE_HLTV_REFINANCE_OPTION_INDICATOR', 'RE_PROCS_FLAG',\n",
       "       'ORIG_DATE_m', 'ORIG_DATE_y', 'LAST_PAID_INSTALLMENT_DATE_m',\n",
       "       'LAST_PAID_INSTALLMENT_DATE_y', 'FORECLOSURE_DATE_m',\n",
       "       'FORECLOSURE_DATE_y', 'DISPOSITION_DATE_m', 'DISPOSITION_DATE_y',\n",
       "       'FIRST_PAY_m', 'FIRST_PAY_y', 'ZB_DTE_m', 'ZB_DTE_y', 'ACCRUED_INT',\n",
       "       'LOSS', 'FHA_Mean', 'UNEmpRate', 'Orig_HPI', 'Disp_HPI', 'MTM_LTV',\n",
       "       'Loan_age', 'time_to_foreclose', 'PURPOSE_P', 'PURPOSE_R', 'PURPOSE_U',\n",
       "       'method_fore_Judicial', 'method_fore_Power-of-Sale',\n",
       "       'method_fore_Strict Foreclosure', 'Zero_Bal_Code_3.0',\n",
       "       'Zero_Bal_Code_9.0', 'Zero_Bal_Code_15.0', 'Lossper_GD'],\n",
       "      dtype='object')"
      ]
     },
     "execution_count": 130,
     "metadata": {},
     "output_type": "execute_result"
    }
   ],
   "source": [
    "wdata.columns"
   ]
  },
  {
   "cell_type": "markdown",
   "id": "d040d883",
   "metadata": {},
   "source": [
    "LOSS/LGD Prediction"
   ]
  },
  {
   "cell_type": "code",
   "execution_count": 131,
   "id": "e0005c11",
   "metadata": {},
   "outputs": [],
   "source": [
    "# Doing a random split now, \n",
    "#can be converted into time based split later\n",
    "\n",
    "#outliers filtering \n",
    "sdata = wdata[(wdata['Lossper_GD']>-200) & (wdata['Lossper_GD']<400)]\n",
    "\n",
    "train, evaluate = train_test_split(sdata, test_size=0.2)"
   ]
  },
  {
   "cell_type": "code",
   "execution_count": 132,
   "id": "9262030c",
   "metadata": {},
   "outputs": [],
   "source": [
    "#switch here between LOSS and Lossper_GD\n",
    "output = 'Lossper_GD'\n",
    "\n",
    "# loan age\n",
    "# zero balance one hot -encoded\n",
    "\n",
    "predictors= ['ORIG_RATE',  'ORIG_TERM', 'ORIG_UPB','LAST_UPB', 'OLTV', 'CSCORE_B','ORIG_DATE_m', 'ORIG_DATE_y',\n",
    "           'UNEmpRate', 'time_to_foreclose', 'PURPOSE_P',\n",
    "       'PURPOSE_R', 'method_fore_Judicial', 'OCLTV', 'Disp_HPI', 'FHA_Mean', 'Orig_HPI', 'UNEmpRate', 'MTM_LTV',\n",
    "       'method_fore_Power-of-Sale', 'method_fore_Strict Foreclosure',\n",
    "       'LAST_PAID_INSTALLMENT_DATE_m', 'LAST_PAID_INSTALLMENT_DATE_y',\n",
    "       'FORECLOSURE_DATE_m', 'FORECLOSURE_DATE_y', 'DISPOSITION_DATE_m',\n",
    "       'DISPOSITION_DATE_y', 'Zero_Bal_Code_3.0','Zero_Bal_Code_9.0', 'Zero_Bal_Code_15.0',]\n",
    "\n",
    "Y_train = train[output]\n",
    "#'HIGH_BAl_Y' - May not be present because it has unique value\n",
    "X_train = train[predictors]\n",
    "\n",
    "Y_eval = evaluate[output]\n",
    "X_eval = evaluate[predictors]"
   ]
  },
  {
   "cell_type": "code",
   "execution_count": 133,
   "id": "bd7e201a",
   "metadata": {},
   "outputs": [],
   "source": [
    "# calculate aic for regression\n",
    "def calculate_aic(n, mse, num_params):\n",
    " aic = n * log(mse) + 2 * num_params\n",
    " return aic\n",
    "# calculate bic for regression\n",
    "def calculate_bic(n, mse, num_params):\n",
    " bic = n * log(mse) + num_params * log(n)\n",
    " return bic"
   ]
  },
  {
   "cell_type": "code",
   "execution_count": 134,
   "id": "c8a62bdd",
   "metadata": {},
   "outputs": [],
   "source": [
    "X_train_ = sm.add_constant(X_train)\n",
    "model = sm.OLS(Y_train,X_train_.astype(float))\n",
    "results = model.fit()"
   ]
  },
  {
   "cell_type": "code",
   "execution_count": 135,
   "id": "ec5ecfe3",
   "metadata": {},
   "outputs": [
    {
     "data": {
      "text/html": [
       "<table class=\"simpletable\">\n",
       "<caption>OLS Regression Results</caption>\n",
       "<tr>\n",
       "  <th>Dep. Variable:</th>       <td>Lossper_GD</td>    <th>  R-squared:         </th>  <td>   0.385</td>  \n",
       "</tr>\n",
       "<tr>\n",
       "  <th>Model:</th>                   <td>OLS</td>       <th>  Adj. R-squared:    </th>  <td>   0.384</td>  \n",
       "</tr>\n",
       "<tr>\n",
       "  <th>Method:</th>             <td>Least Squares</td>  <th>  F-statistic:       </th>  <td>   8196.</td>  \n",
       "</tr>\n",
       "<tr>\n",
       "  <th>Date:</th>             <td>Fri, 01 Dec 2023</td> <th>  Prob (F-statistic):</th>   <td>  0.00</td>   \n",
       "</tr>\n",
       "<tr>\n",
       "  <th>Time:</th>                 <td>00:02:16</td>     <th>  Log-Likelihood:    </th> <td>-1.8081e+06</td>\n",
       "</tr>\n",
       "<tr>\n",
       "  <th>No. Observations:</th>      <td>380480</td>      <th>  AIC:               </th>  <td>3.616e+06</td> \n",
       "</tr>\n",
       "<tr>\n",
       "  <th>Df Residuals:</th>          <td>380450</td>      <th>  BIC:               </th>  <td>3.617e+06</td> \n",
       "</tr>\n",
       "<tr>\n",
       "  <th>Df Model:</th>              <td>    29</td>      <th>                     </th>      <td> </td>     \n",
       "</tr>\n",
       "<tr>\n",
       "  <th>Covariance Type:</th>      <td>nonrobust</td>    <th>                     </th>      <td> </td>     \n",
       "</tr>\n",
       "</table>\n",
       "<table class=\"simpletable\">\n",
       "<tr>\n",
       "                 <td></td>                   <th>coef</th>     <th>std err</th>      <th>t</th>      <th>P>|t|</th>  <th>[0.025</th>    <th>0.975]</th>  \n",
       "</tr>\n",
       "<tr>\n",
       "  <th>const</th>                          <td>-2149.0721</td> <td>   86.529</td> <td>  -24.836</td> <td> 0.000</td> <td>-2318.666</td> <td>-1979.478</td>\n",
       "</tr>\n",
       "<tr>\n",
       "  <th>ORIG_RATE</th>                      <td>   10.6071</td> <td>    0.104</td> <td>  102.146</td> <td> 0.000</td> <td>   10.404</td> <td>   10.811</td>\n",
       "</tr>\n",
       "<tr>\n",
       "  <th>ORIG_TERM</th>                      <td>   -0.0463</td> <td>    0.001</td> <td>  -40.487</td> <td> 0.000</td> <td>   -0.049</td> <td>   -0.044</td>\n",
       "</tr>\n",
       "<tr>\n",
       "  <th>ORIG_UPB</th>                       <td>   -0.0002</td> <td> 3.66e-06</td> <td>  -60.850</td> <td> 0.000</td> <td>   -0.000</td> <td>   -0.000</td>\n",
       "</tr>\n",
       "<tr>\n",
       "  <th>LAST_UPB</th>                       <td>    0.0001</td> <td> 3.79e-06</td> <td>   26.404</td> <td> 0.000</td> <td> 9.26e-05</td> <td>    0.000</td>\n",
       "</tr>\n",
       "<tr>\n",
       "  <th>OLTV</th>                           <td>   -0.2754</td> <td>    0.012</td> <td>  -22.089</td> <td> 0.000</td> <td>   -0.300</td> <td>   -0.251</td>\n",
       "</tr>\n",
       "<tr>\n",
       "  <th>CSCORE_B</th>                       <td>    0.0074</td> <td>    0.001</td> <td>    8.645</td> <td> 0.000</td> <td>    0.006</td> <td>    0.009</td>\n",
       "</tr>\n",
       "<tr>\n",
       "  <th>ORIG_DATE_m</th>                    <td>   -0.1846</td> <td>    0.014</td> <td>  -13.249</td> <td> 0.000</td> <td>   -0.212</td> <td>   -0.157</td>\n",
       "</tr>\n",
       "<tr>\n",
       "  <th>ORIG_DATE_y</th>                    <td>   -1.0988</td> <td>    0.037</td> <td>  -29.665</td> <td> 0.000</td> <td>   -1.171</td> <td>   -1.026</td>\n",
       "</tr>\n",
       "<tr>\n",
       "  <th>UNEmpRate</th>                      <td>    1.1513</td> <td>    0.018</td> <td>   64.489</td> <td> 0.000</td> <td>    1.116</td> <td>    1.186</td>\n",
       "</tr>\n",
       "<tr>\n",
       "  <th>time_to_foreclose</th>              <td>    0.0040</td> <td>    0.000</td> <td>   15.765</td> <td> 0.000</td> <td>    0.004</td> <td>    0.005</td>\n",
       "</tr>\n",
       "<tr>\n",
       "  <th>PURPOSE_P</th>                      <td>  -10.3220</td> <td>    0.121</td> <td>  -85.153</td> <td> 0.000</td> <td>  -10.560</td> <td>  -10.084</td>\n",
       "</tr>\n",
       "<tr>\n",
       "  <th>PURPOSE_R</th>                      <td>   -2.0091</td> <td>    0.120</td> <td>  -16.679</td> <td> 0.000</td> <td>   -2.245</td> <td>   -1.773</td>\n",
       "</tr>\n",
       "<tr>\n",
       "  <th>method_fore_Judicial</th>           <td>    0.8978</td> <td>    0.748</td> <td>    1.200</td> <td> 0.230</td> <td>   -0.568</td> <td>    2.364</td>\n",
       "</tr>\n",
       "<tr>\n",
       "  <th>OCLTV</th>                          <td>    0.1691</td> <td>    0.011</td> <td>   15.354</td> <td> 0.000</td> <td>    0.147</td> <td>    0.191</td>\n",
       "</tr>\n",
       "<tr>\n",
       "  <th>Disp_HPI</th>                       <td>   -0.0903</td> <td>    0.001</td> <td>  -61.234</td> <td> 0.000</td> <td>   -0.093</td> <td>   -0.087</td>\n",
       "</tr>\n",
       "<tr>\n",
       "  <th>FHA_Mean</th>                       <td>    4.2247</td> <td>    0.095</td> <td>   44.289</td> <td> 0.000</td> <td>    4.038</td> <td>    4.412</td>\n",
       "</tr>\n",
       "<tr>\n",
       "  <th>Orig_HPI</th>                       <td>    0.0930</td> <td>    0.001</td> <td>   72.744</td> <td> 0.000</td> <td>    0.091</td> <td>    0.096</td>\n",
       "</tr>\n",
       "<tr>\n",
       "  <th>UNEmpRate</th>                      <td>    1.1513</td> <td>    0.018</td> <td>   64.489</td> <td> 0.000</td> <td>    1.116</td> <td>    1.186</td>\n",
       "</tr>\n",
       "<tr>\n",
       "  <th>MTM_LTV</th>                        <td>    0.1592</td> <td>    0.005</td> <td>   29.356</td> <td> 0.000</td> <td>    0.149</td> <td>    0.170</td>\n",
       "</tr>\n",
       "<tr>\n",
       "  <th>method_fore_Power-of-Sale</th>      <td>   -2.7553</td> <td>    0.759</td> <td>   -3.631</td> <td> 0.000</td> <td>   -4.242</td> <td>   -1.268</td>\n",
       "</tr>\n",
       "<tr>\n",
       "  <th>method_fore_Strict Foreclosure</th> <td>   -0.0637</td> <td>    0.865</td> <td>   -0.074</td> <td> 0.941</td> <td>   -1.758</td> <td>    1.631</td>\n",
       "</tr>\n",
       "<tr>\n",
       "  <th>LAST_PAID_INSTALLMENT_DATE_m</th>   <td>   -0.6674</td> <td>    0.014</td> <td>  -47.944</td> <td> 0.000</td> <td>   -0.695</td> <td>   -0.640</td>\n",
       "</tr>\n",
       "<tr>\n",
       "  <th>LAST_PAID_INSTALLMENT_DATE_y</th>   <td>   -7.9497</td> <td>    0.043</td> <td> -185.955</td> <td> 0.000</td> <td>   -8.033</td> <td>   -7.866</td>\n",
       "</tr>\n",
       "<tr>\n",
       "  <th>FORECLOSURE_DATE_m</th>             <td>   -0.3566</td> <td>    0.017</td> <td>  -20.511</td> <td> 0.000</td> <td>   -0.391</td> <td>   -0.323</td>\n",
       "</tr>\n",
       "<tr>\n",
       "  <th>FORECLOSURE_DATE_y</th>             <td>   -3.9199</td> <td>    0.123</td> <td>  -31.789</td> <td> 0.000</td> <td>   -4.162</td> <td>   -3.678</td>\n",
       "</tr>\n",
       "<tr>\n",
       "  <th>DISPOSITION_DATE_m</th>             <td>    1.1003</td> <td>    0.017</td> <td>   65.606</td> <td> 0.000</td> <td>    1.067</td> <td>    1.133</td>\n",
       "</tr>\n",
       "<tr>\n",
       "  <th>DISPOSITION_DATE_y</th>             <td>   14.0043</td> <td>    0.113</td> <td>  124.469</td> <td> 0.000</td> <td>   13.784</td> <td>   14.225</td>\n",
       "</tr>\n",
       "<tr>\n",
       "  <th>Zero_Bal_Code_3.0</th>              <td>   11.6938</td> <td>    0.208</td> <td>   56.269</td> <td> 0.000</td> <td>   11.286</td> <td>   12.101</td>\n",
       "</tr>\n",
       "<tr>\n",
       "  <th>Zero_Bal_Code_9.0</th>              <td>   15.3753</td> <td>    0.197</td> <td>   77.936</td> <td> 0.000</td> <td>   14.989</td> <td>   15.762</td>\n",
       "</tr>\n",
       "<tr>\n",
       "  <th>Zero_Bal_Code_15.0</th>             <td>   14.1032</td> <td>    0.272</td> <td>   51.873</td> <td> 0.000</td> <td>   13.570</td> <td>   14.636</td>\n",
       "</tr>\n",
       "</table>\n",
       "<table class=\"simpletable\">\n",
       "<tr>\n",
       "  <th>Omnibus:</th>       <td>48175.080</td> <th>  Durbin-Watson:     </th>  <td>   1.995</td> \n",
       "</tr>\n",
       "<tr>\n",
       "  <th>Prob(Omnibus):</th>  <td> 0.000</td>   <th>  Jarque-Bera (JB):  </th> <td>273782.245</td>\n",
       "</tr>\n",
       "<tr>\n",
       "  <th>Skew:</th>           <td> 0.479</td>   <th>  Prob(JB):          </th>  <td>    0.00</td> \n",
       "</tr>\n",
       "<tr>\n",
       "  <th>Kurtosis:</th>       <td> 7.044</td>   <th>  Cond. No.          </th>  <td>1.14e+16</td> \n",
       "</tr>\n",
       "</table><br/><br/>Notes:<br/>[1] Standard Errors assume that the covariance matrix of the errors is correctly specified.<br/>[2] The smallest eigenvalue is 2.12e-16. This might indicate that there are<br/>strong multicollinearity problems or that the design matrix is singular."
      ],
      "text/plain": [
       "<class 'statsmodels.iolib.summary.Summary'>\n",
       "\"\"\"\n",
       "                            OLS Regression Results                            \n",
       "==============================================================================\n",
       "Dep. Variable:             Lossper_GD   R-squared:                       0.385\n",
       "Model:                            OLS   Adj. R-squared:                  0.384\n",
       "Method:                 Least Squares   F-statistic:                     8196.\n",
       "Date:                Fri, 01 Dec 2023   Prob (F-statistic):               0.00\n",
       "Time:                        00:02:16   Log-Likelihood:            -1.8081e+06\n",
       "No. Observations:              380480   AIC:                         3.616e+06\n",
       "Df Residuals:                  380450   BIC:                         3.617e+06\n",
       "Df Model:                          29                                         \n",
       "Covariance Type:            nonrobust                                         \n",
       "==================================================================================================\n",
       "                                     coef    std err          t      P>|t|      [0.025      0.975]\n",
       "--------------------------------------------------------------------------------------------------\n",
       "const                          -2149.0721     86.529    -24.836      0.000   -2318.666   -1979.478\n",
       "ORIG_RATE                         10.6071      0.104    102.146      0.000      10.404      10.811\n",
       "ORIG_TERM                         -0.0463      0.001    -40.487      0.000      -0.049      -0.044\n",
       "ORIG_UPB                          -0.0002   3.66e-06    -60.850      0.000      -0.000      -0.000\n",
       "LAST_UPB                           0.0001   3.79e-06     26.404      0.000    9.26e-05       0.000\n",
       "OLTV                              -0.2754      0.012    -22.089      0.000      -0.300      -0.251\n",
       "CSCORE_B                           0.0074      0.001      8.645      0.000       0.006       0.009\n",
       "ORIG_DATE_m                       -0.1846      0.014    -13.249      0.000      -0.212      -0.157\n",
       "ORIG_DATE_y                       -1.0988      0.037    -29.665      0.000      -1.171      -1.026\n",
       "UNEmpRate                          1.1513      0.018     64.489      0.000       1.116       1.186\n",
       "time_to_foreclose                  0.0040      0.000     15.765      0.000       0.004       0.005\n",
       "PURPOSE_P                        -10.3220      0.121    -85.153      0.000     -10.560     -10.084\n",
       "PURPOSE_R                         -2.0091      0.120    -16.679      0.000      -2.245      -1.773\n",
       "method_fore_Judicial               0.8978      0.748      1.200      0.230      -0.568       2.364\n",
       "OCLTV                              0.1691      0.011     15.354      0.000       0.147       0.191\n",
       "Disp_HPI                          -0.0903      0.001    -61.234      0.000      -0.093      -0.087\n",
       "FHA_Mean                           4.2247      0.095     44.289      0.000       4.038       4.412\n",
       "Orig_HPI                           0.0930      0.001     72.744      0.000       0.091       0.096\n",
       "UNEmpRate                          1.1513      0.018     64.489      0.000       1.116       1.186\n",
       "MTM_LTV                            0.1592      0.005     29.356      0.000       0.149       0.170\n",
       "method_fore_Power-of-Sale         -2.7553      0.759     -3.631      0.000      -4.242      -1.268\n",
       "method_fore_Strict Foreclosure    -0.0637      0.865     -0.074      0.941      -1.758       1.631\n",
       "LAST_PAID_INSTALLMENT_DATE_m      -0.6674      0.014    -47.944      0.000      -0.695      -0.640\n",
       "LAST_PAID_INSTALLMENT_DATE_y      -7.9497      0.043   -185.955      0.000      -8.033      -7.866\n",
       "FORECLOSURE_DATE_m                -0.3566      0.017    -20.511      0.000      -0.391      -0.323\n",
       "FORECLOSURE_DATE_y                -3.9199      0.123    -31.789      0.000      -4.162      -3.678\n",
       "DISPOSITION_DATE_m                 1.1003      0.017     65.606      0.000       1.067       1.133\n",
       "DISPOSITION_DATE_y                14.0043      0.113    124.469      0.000      13.784      14.225\n",
       "Zero_Bal_Code_3.0                 11.6938      0.208     56.269      0.000      11.286      12.101\n",
       "Zero_Bal_Code_9.0                 15.3753      0.197     77.936      0.000      14.989      15.762\n",
       "Zero_Bal_Code_15.0                14.1032      0.272     51.873      0.000      13.570      14.636\n",
       "==============================================================================\n",
       "Omnibus:                    48175.080   Durbin-Watson:                   1.995\n",
       "Prob(Omnibus):                  0.000   Jarque-Bera (JB):           273782.245\n",
       "Skew:                           0.479   Prob(JB):                         0.00\n",
       "Kurtosis:                       7.044   Cond. No.                     1.14e+16\n",
       "==============================================================================\n",
       "\n",
       "Notes:\n",
       "[1] Standard Errors assume that the covariance matrix of the errors is correctly specified.\n",
       "[2] The smallest eigenvalue is 2.12e-16. This might indicate that there are\n",
       "strong multicollinearity problems or that the design matrix is singular.\n",
       "\"\"\""
      ]
     },
     "execution_count": 135,
     "metadata": {},
     "output_type": "execute_result"
    }
   ],
   "source": [
    "#publish these\n",
    "results.summary()"
   ]
  },
  {
   "cell_type": "code",
   "execution_count": 136,
   "id": "d9e50008",
   "metadata": {},
   "outputs": [
    {
     "data": {
      "text/html": [
       "<style>#sk-container-id-2 {color: black;background-color: white;}#sk-container-id-2 pre{padding: 0;}#sk-container-id-2 div.sk-toggleable {background-color: white;}#sk-container-id-2 label.sk-toggleable__label {cursor: pointer;display: block;width: 100%;margin-bottom: 0;padding: 0.3em;box-sizing: border-box;text-align: center;}#sk-container-id-2 label.sk-toggleable__label-arrow:before {content: \"▸\";float: left;margin-right: 0.25em;color: #696969;}#sk-container-id-2 label.sk-toggleable__label-arrow:hover:before {color: black;}#sk-container-id-2 div.sk-estimator:hover label.sk-toggleable__label-arrow:before {color: black;}#sk-container-id-2 div.sk-toggleable__content {max-height: 0;max-width: 0;overflow: hidden;text-align: left;background-color: #f0f8ff;}#sk-container-id-2 div.sk-toggleable__content pre {margin: 0.2em;color: black;border-radius: 0.25em;background-color: #f0f8ff;}#sk-container-id-2 input.sk-toggleable__control:checked~div.sk-toggleable__content {max-height: 200px;max-width: 100%;overflow: auto;}#sk-container-id-2 input.sk-toggleable__control:checked~label.sk-toggleable__label-arrow:before {content: \"▾\";}#sk-container-id-2 div.sk-estimator input.sk-toggleable__control:checked~label.sk-toggleable__label {background-color: #d4ebff;}#sk-container-id-2 div.sk-label input.sk-toggleable__control:checked~label.sk-toggleable__label {background-color: #d4ebff;}#sk-container-id-2 input.sk-hidden--visually {border: 0;clip: rect(1px 1px 1px 1px);clip: rect(1px, 1px, 1px, 1px);height: 1px;margin: -1px;overflow: hidden;padding: 0;position: absolute;width: 1px;}#sk-container-id-2 div.sk-estimator {font-family: monospace;background-color: #f0f8ff;border: 1px dotted black;border-radius: 0.25em;box-sizing: border-box;margin-bottom: 0.5em;}#sk-container-id-2 div.sk-estimator:hover {background-color: #d4ebff;}#sk-container-id-2 div.sk-parallel-item::after {content: \"\";width: 100%;border-bottom: 1px solid gray;flex-grow: 1;}#sk-container-id-2 div.sk-label:hover label.sk-toggleable__label {background-color: #d4ebff;}#sk-container-id-2 div.sk-serial::before {content: \"\";position: absolute;border-left: 1px solid gray;box-sizing: border-box;top: 0;bottom: 0;left: 50%;z-index: 0;}#sk-container-id-2 div.sk-serial {display: flex;flex-direction: column;align-items: center;background-color: white;padding-right: 0.2em;padding-left: 0.2em;position: relative;}#sk-container-id-2 div.sk-item {position: relative;z-index: 1;}#sk-container-id-2 div.sk-parallel {display: flex;align-items: stretch;justify-content: center;background-color: white;position: relative;}#sk-container-id-2 div.sk-item::before, #sk-container-id-2 div.sk-parallel-item::before {content: \"\";position: absolute;border-left: 1px solid gray;box-sizing: border-box;top: 0;bottom: 0;left: 50%;z-index: -1;}#sk-container-id-2 div.sk-parallel-item {display: flex;flex-direction: column;z-index: 1;position: relative;background-color: white;}#sk-container-id-2 div.sk-parallel-item:first-child::after {align-self: flex-end;width: 50%;}#sk-container-id-2 div.sk-parallel-item:last-child::after {align-self: flex-start;width: 50%;}#sk-container-id-2 div.sk-parallel-item:only-child::after {width: 0;}#sk-container-id-2 div.sk-dashed-wrapped {border: 1px dashed gray;margin: 0 0.4em 0.5em 0.4em;box-sizing: border-box;padding-bottom: 0.4em;background-color: white;}#sk-container-id-2 div.sk-label label {font-family: monospace;font-weight: bold;display: inline-block;line-height: 1.2em;}#sk-container-id-2 div.sk-label-container {text-align: center;}#sk-container-id-2 div.sk-container {/* jupyter's `normalize.less` sets `[hidden] { display: none; }` but bootstrap.min.css set `[hidden] { display: none !important; }` so we also need the `!important` here to be able to override the default hidden behavior on the sphinx rendered scikit-learn.org. See: https://github.com/scikit-learn/scikit-learn/issues/21755 */display: inline-block !important;position: relative;}#sk-container-id-2 div.sk-text-repr-fallback {display: none;}</style><div id=\"sk-container-id-2\" class=\"sk-top-container\"><div class=\"sk-text-repr-fallback\"><pre>LinearRegression()</pre><b>In a Jupyter environment, please rerun this cell to show the HTML representation or trust the notebook. <br />On GitHub, the HTML representation is unable to render, please try loading this page with nbviewer.org.</b></div><div class=\"sk-container\" hidden><div class=\"sk-item\"><div class=\"sk-estimator sk-toggleable\"><input class=\"sk-toggleable__control sk-hidden--visually\" id=\"sk-estimator-id-2\" type=\"checkbox\" checked><label for=\"sk-estimator-id-2\" class=\"sk-toggleable__label sk-toggleable__label-arrow\">LinearRegression</label><div class=\"sk-toggleable__content\"><pre>LinearRegression()</pre></div></div></div></div></div>"
      ],
      "text/plain": [
       "LinearRegression()"
      ]
     },
     "execution_count": 136,
     "metadata": {},
     "output_type": "execute_result"
    }
   ],
   "source": [
    "# Sklearn learning and predictions on evaluation set\n",
    "OLreg = LinearRegression()\n",
    "OLreg.fit(X_train, Y_train)"
   ]
  },
  {
   "cell_type": "code",
   "execution_count": 137,
   "id": "b908f1f3",
   "metadata": {},
   "outputs": [
    {
     "name": "stdout",
     "output_type": "stream",
     "text": [
      "R^2 : 0.38577653965644143\n",
      "AIC 632884.5315295832\n"
     ]
    }
   ],
   "source": [
    "Y_pred = OLreg.predict(X_eval)\n",
    "print(\"R^2 :\", r2_score(Y_eval, Y_pred))\n",
    "mse = mean_squared_error(Y_eval, Y_pred)\n",
    "print(\"AIC\", calculate_aic(Y_eval.shape[0], mse, len(predictors)))"
   ]
  },
  {
   "cell_type": "code",
   "execution_count": null,
   "id": "7e6bfc66",
   "metadata": {},
   "outputs": [],
   "source": []
  }
 ],
 "metadata": {
  "kernelspec": {
   "display_name": "Python 3 (ipykernel)",
   "language": "python",
   "name": "python3"
  },
  "language_info": {
   "codemirror_mode": {
    "name": "ipython",
    "version": 3
   },
   "file_extension": ".py",
   "mimetype": "text/x-python",
   "name": "python",
   "nbconvert_exporter": "python",
   "pygments_lexer": "ipython3",
   "version": "3.11.5"
  }
 },
 "nbformat": 4,
 "nbformat_minor": 5
}
